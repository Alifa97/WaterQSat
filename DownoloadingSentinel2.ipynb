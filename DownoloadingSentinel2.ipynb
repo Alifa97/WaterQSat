{
 "cells": [
  {
   "cell_type": "markdown",
   "id": "4b6703af-a19e-474d-b103-4db17a3b77bf",
   "metadata": {},
   "source": [
    "<span style=\"font-size: 18px;\">Downoloading images</span>"
   ]
  },
  {
   "cell_type": "code",
   "execution_count": 1,
   "id": "b8d03341-98d8-47d6-85d5-faf492bf7b49",
   "metadata": {},
   "outputs": [
    {
     "name": "stdout",
     "output_type": "stream",
     "text": [
      "No images found for date 2017-01-01\n",
      "File S2A_MSIL1C_20170105T112442_N0204_R037_T29TPE_20170105T112737.SAFE.zip already exists. Skipping download.\n",
      "No images found for date 2017-01-07\n",
      "No images found for date 2017-01-11\n",
      "No images found for date 2017-01-14\n",
      "File S2A_MSIL1C_20170115T112411_N0204_R037_T29TPE_20170115T112412.SAFE.zip already exists. Skipping download.\n",
      "No images found for date 2017-01-18\n",
      "No images found for date 2017-01-19\n",
      "No images found for date 2017-01-20\n",
      "No images found for date 2017-01-21\n",
      "No images found for date 2017-01-22\n",
      "No images found for date 2017-01-23\n",
      "No images found for date 2017-01-24\n",
      "File S2A_MSIL1C_20170125T112331_N0204_R037_T29TPE_20170125T112333.SAFE.zip already exists. Skipping download.\n",
      "No images found for date 2017-01-28\n",
      "No images found for date 2017-02-07\n",
      "No images found for date 2017-02-09\n",
      "No images found for date 2017-02-19\n",
      "No images found for date 2017-02-20\n",
      "No images found for date 2017-02-21\n",
      "No images found for date 2017-02-22\n",
      "No images found for date 2017-03-02\n",
      "No images found for date 2017-03-04\n",
      "No images found for date 2017-03-08\n",
      "No images found for date 2017-03-09\n",
      "No images found for date 2017-03-10\n",
      "No images found for date 2017-03-11\n",
      "No images found for date 2017-03-12\n",
      "No images found for date 2017-03-13\n",
      "No images found for date 2017-03-15\n",
      "File S2A_MSIL1C_20170316T112101_N0204_R037_T29TPE_20170316T112658.SAFE.zip already exists. Skipping download.\n",
      "File S2A_MSIL1C_20170316T112101_N0204_R037_T29TPE_20170316T112658.SAFE.zip already exists. Skipping download.\n",
      "File S2B_MSIL1C_20170318T111949_N0500_R023_T29TPE_20231026T200640.SAFE.zip already exists. Skipping download.\n",
      "File S2B_MSIL1C_20170318T111949_N0500_R023_T29TPE_20231026T200640.SAFE.zip already exists. Skipping download.\n",
      "No images found for date 2017-03-20\n",
      "No images found for date 2017-03-29\n",
      "No images found for date 2017-03-31\n",
      "No images found for date 2017-04-01\n",
      "No images found for date 2017-04-02\n",
      "No images found for date 2017-04-04\n",
      "File S2A_MSIL1C_20170405T112111_N0205_R037_T29TPE_20170405T112111.SAFE.zip already exists. Skipping download.\n",
      "File S2A_MSIL1C_20170405T112111_N0205_R037_T29TPE_20170405T112111.SAFE.zip already exists. Skipping download.\n",
      "No images found for date 2017-04-07\n",
      "No images found for date 2017-04-08\n",
      "File S2B_MSIL1C_20170410T112109_N0500_R037_T29TPE_20231112T185047.SAFE.zip already exists. Skipping download.\n",
      "No images found for date 2017-04-12\n",
      "No images found for date 2017-04-13\n",
      "File S2A_MSIL1C_20170415T112111_N0204_R037_T29TPE_20170415T112515.SAFE.zip already exists. Skipping download.\n",
      "File S2A_MSIL1C_20170415T112111_N0204_R037_T29TPE_20170415T112515.SAFE.zip already exists. Skipping download.\n",
      "No images found for date 2017-04-17\n",
      "No images found for date 2017-04-19\n",
      "No images found for date 2017-04-21\n",
      "No images found for date 2017-04-23\n",
      "No images found for date 2017-04-24\n",
      "File S2A_MSIL1C_20170425T112121_N0204_R037_T29TPE_20170425T112115.SAFE.zip already exists. Skipping download.\n",
      "File S2A_MSIL1C_20170425T112121_N0204_R037_T29TPE_20170425T112115.SAFE.zip already exists. Skipping download.\n",
      "No images found for date 2017-04-27\n",
      "File S2B_MSIL1C_20170430T112109_N0500_R037_T29TPE_20231113T205555.SAFE.zip already exists. Skipping download.\n",
      "No images found for date 2017-05-02\n",
      "No images found for date 2017-05-03\n",
      "File S2A_MSIL1C_20170505T112121_N0205_R037_T29TPE_20170505T112514.SAFE.zip already exists. Skipping download.\n",
      "No images found for date 2017-05-07\n",
      "No images found for date 2017-05-08\n",
      "No images found for date 2017-05-09\n",
      "No images found for date 2017-05-11\n",
      "No images found for date 2017-05-12\n",
      "No images found for date 2017-05-13\n",
      "File S2A_MSIL1C_20170515T112121_N0205_R037_T29TPE_20170515T112116.SAFE.zip already exists. Skipping download.\n",
      "No images found for date 2017-05-17\n",
      "No images found for date 2017-05-18\n",
      "No images found for date 2017-05-19\n",
      "File S2B_MSIL1C_20170520T112109_N0500_R037_T29TPE_20230924T175408.SAFE.zip already exists. Skipping download.\n",
      "No images found for date 2017-05-23\n",
      "No images found for date 2017-05-24\n",
      "File S2A_MSIL1C_20170525T112121_N0205_R037_T29TPE_20170525T112434.SAFE.zip already exists. Skipping download.\n",
      "File S2A_MSIL1C_20170525T112121_N0205_R037_T29TPE_20170525T112434.SAFE.zip already exists. Skipping download.\n",
      "No images found for date 2017-05-28\n",
      "File S2B_MSIL1C_20170530T112109_N0500_R037_T29TPE_20231111T220238.SAFE.zip already exists. Skipping download.\n",
      "File S2B_MSIL1C_20170530T112109_N0500_R037_T29TPE_20231111T220238.SAFE.zip already exists. Skipping download.\n",
      "No images found for date 2017-06-01\n",
      "No images found for date 2017-06-02\n",
      "No images found for date 2017-06-03\n",
      "File S2A_MSIL1C_20170604T112121_N0205_R037_T29TPE_20170604T112755.SAFE.zip already exists. Skipping download.\n",
      "File S2A_MSIL1C_20170604T112121_N0205_R037_T29TPE_20170604T112755.SAFE.zip already exists. Skipping download.\n",
      "No images found for date 2017-06-07\n",
      "No images found for date 2017-06-08\n",
      "File S2B_MSIL1C_20170609T112119_N0500_R037_T29TPE_20231113T110445.SAFE.zip already exists. Skipping download.\n",
      "File S2B_MSIL1C_20170609T112119_N0500_R037_T29TPE_20231113T110445.SAFE.zip already exists. Skipping download.\n",
      "No images found for date 2017-06-11\n",
      "No images found for date 2017-06-12\n",
      "No images found for date 2017-06-13\n",
      "File S2A_MSIL1C_20170614T112111_N0205_R037_T29TPE_20170614T112422.SAFE.zip already exists. Skipping download.\n",
      "File S2A_MSIL1C_20170614T112111_N0205_R037_T29TPE_20170614T112422.SAFE.zip already exists. Skipping download.\n",
      "No images found for date 2017-06-16\n",
      "No images found for date 2017-06-18\n",
      "File S2B_MSIL1C_20170619T112119_N0500_R037_T29TPE_20231009T034521.SAFE.zip already exists. Skipping download.\n",
      "File S2B_MSIL1C_20170619T112119_N0500_R037_T29TPE_20231009T034521.SAFE.zip already exists. Skipping download.\n",
      "No images found for date 2017-06-23\n",
      "File S2A_MSIL1C_20170624T112111_N0205_R037_T29TPE_20170624T112112.SAFE.zip already exists. Skipping download.\n",
      "No images found for date 2017-06-26\n",
      "No images found for date 2017-06-27\n",
      "No images found for date 2017-06-28\n",
      "No images found for date 2017-07-01\n",
      "No images found for date 2017-07-02\n",
      "No images found for date 2017-07-03\n",
      "File S2A_MSIL1C_20170704T112111_N0205_R037_T29TPE_20170704T112431.SAFE.zip already exists. Skipping download.\n",
      "File S2A_MSIL1C_20170704T112111_N0205_R037_T29TPE_20170704T112431.SAFE.zip already exists. Skipping download.\n",
      "No images found for date 2017-07-06\n",
      "No images found for date 2017-07-08\n",
      "File S2B_MSIL1C_20170709T112119_N0205_R037_T29TPE_20170709T112113.SAFE.zip already exists. Skipping download.\n",
      "File S2B_MSIL1C_20170709T112119_N0205_R037_T29TPE_20170709T112113.SAFE.zip already exists. Skipping download.\n",
      "No images found for date 2017-07-11\n",
      "No images found for date 2017-07-12\n",
      "No images found for date 2017-07-13\n",
      "File S2A_MSIL1C_20170714T112111_N0205_R037_T29TPE_20170714T112114.SAFE.zip already exists. Skipping download.\n",
      "File S2A_MSIL1C_20170714T112111_N0205_R037_T29TPE_20170714T112114.SAFE.zip already exists. Skipping download.\n",
      "No images found for date 2017-07-16\n",
      "No images found for date 2017-07-17\n",
      "File S2B_MSIL1C_20170719T112119_N0205_R037_T29TPE_20170719T112511.SAFE.zip already exists. Skipping download.\n",
      "No images found for date 2017-07-21\n",
      "No images found for date 2017-07-22\n",
      "No images found for date 2017-07-23\n",
      "File S2A_MSIL1C_20170724T112121_N0205_R037_T29TPE_20170724T112433.SAFE.zip already exists. Skipping download.\n",
      "File S2A_MSIL1C_20170724T112121_N0205_R037_T29TPE_20170724T112433.SAFE.zip already exists. Skipping download.\n",
      "No images found for date 2017-07-26\n",
      "No images found for date 2017-07-27\n",
      "No images found for date 2017-07-28\n",
      "File S2B_MSIL1C_20170729T112119_N0205_R037_T29TPE_20170729T112341.SAFE.zip already exists. Skipping download.\n",
      "File S2B_MSIL1C_20170729T112119_N0205_R037_T29TPE_20170729T112341.SAFE.zip already exists. Skipping download.\n",
      "No images found for date 2017-08-01\n",
      "No images found for date 2017-08-02\n",
      "File S2A_MSIL1C_20170803T112121_N0205_R037_T29TPE_20170803T112850.SAFE.zip already exists. Skipping download.\n",
      "File S2A_MSIL1C_20170803T112121_N0205_R037_T29TPE_20170803T112850.SAFE.zip already exists. Skipping download.\n",
      "No images found for date 2017-08-05\n",
      "No images found for date 2017-08-06\n",
      "No images found for date 2017-08-07\n",
      "File S2B_MSIL1C_20170808T112109_N0205_R037_T29TPE_20170808T112510.SAFE.zip already exists. Skipping download.\n",
      "No images found for date 2017-08-10\n",
      "No images found for date 2017-08-11\n",
      "No images found for date 2017-08-12\n",
      "File S2A_MSIL1C_20170813T112121_N0205_R037_T29TPE_20170813T112433.SAFE.zip already exists. Skipping download.\n",
      "File S2A_MSIL1C_20170813T112121_N0205_R037_T29TPE_20170813T112433.SAFE.zip already exists. Skipping download.\n",
      "No images found for date 2017-08-16\n",
      "No images found for date 2017-08-17\n",
      "File S2B_MSIL1C_20170818T112109_N0205_R037_T29TPE_20170818T112801.SAFE.zip already exists. Skipping download.\n",
      "File S2B_MSIL1C_20170818T112109_N0205_R037_T29TPE_20170818T112801.SAFE.zip already exists. Skipping download.\n",
      "No images found for date 2017-08-20\n",
      "No images found for date 2017-08-21\n",
      "No images found for date 2017-08-22\n",
      "File S2A_MSIL1C_20170823T112111_N0205_R037_T29TPE_20170823T112114.SAFE.zip already exists. Skipping download.\n",
      "No images found for date 2017-08-25\n",
      "No images found for date 2017-08-27\n",
      "File S2B_MSIL1C_20170828T112109_N0500_R037_T29TPE_20231013T043640.SAFE.zip already exists. Skipping download.\n",
      "File S2B_MSIL1C_20170828T112109_N0500_R037_T29TPE_20231013T043640.SAFE.zip already exists. Skipping download.\n",
      "No images found for date 2017-08-30\n",
      "No images found for date 2017-08-31\n",
      "No images found for date 2017-09-04\n",
      "No images found for date 2017-09-05\n",
      "No images found for date 2017-09-06\n",
      "File S2B_MSIL1C_20170907T112109_N0205_R037_T29TPE_20170907T112106.SAFE.zip already exists. Skipping download.\n",
      "File S2B_MSIL1C_20170907T112109_N0205_R037_T29TPE_20170907T112106.SAFE.zip already exists. Skipping download.\n",
      "No images found for date 2017-09-09\n",
      "No images found for date 2017-09-10\n",
      "No images found for date 2017-09-11\n",
      "File S2A_MSIL1C_20170912T112111_N0205_R037_T29TPE_20170912T112111.SAFE.zip already exists. Skipping download.\n",
      "File S2A_MSIL1C_20170912T112111_N0205_R037_T29TPE_20170912T112111.SAFE.zip already exists. Skipping download.\n",
      "No images found for date 2017-09-14\n",
      "No images found for date 2017-09-15\n",
      "No images found for date 2017-09-16\n",
      "File S2B_MSIL1C_20170917T112059_N0205_R037_T29TPE_20170917T112616.SAFE.zip already exists. Skipping download.\n",
      "No images found for date 2017-09-19\n",
      "No images found for date 2017-09-20\n",
      "No images found for date 2017-09-21\n",
      "File S2A_MSIL1C_20170922T112111_N0205_R037_T29TPE_20170922T112655.SAFE.zip already exists. Skipping download.\n",
      "File S2A_MSIL1C_20170922T112111_N0205_R037_T29TPE_20170922T112655.SAFE.zip already exists. Skipping download.\n",
      "No images found for date 2017-09-24\n",
      "No images found for date 2017-09-25\n",
      "No images found for date 2017-09-26\n",
      "File S2B_MSIL1C_20170927T112059_N0205_R037_T29TPE_20170927T112807.SAFE.zip already exists. Skipping download.\n",
      "File S2B_MSIL1C_20170927T112059_N0205_R037_T29TPE_20170927T112807.SAFE.zip already exists. Skipping download.\n",
      "No images found for date 2017-09-29\n",
      "File S2A_MSIL1C_20171002T112111_N0205_R037_T29TPE_20171002T113001.SAFE.zip already exists. Skipping download.\n",
      "File S2A_MSIL1C_20171002T112111_N0205_R037_T29TPE_20171002T113001.SAFE.zip already exists. Skipping download.\n",
      "No images found for date 2017-10-04\n",
      "No images found for date 2017-10-05\n",
      "No images found for date 2017-10-06\n",
      "File S2B_MSIL1C_20171007T112059_N0205_R037_T29TPE_20171007T112058.SAFE.zip already exists. Skipping download.\n",
      "File S2B_MSIL1C_20171007T112059_N0205_R037_T29TPE_20171007T112058.SAFE.zip already exists. Skipping download.\n",
      "No images found for date 2017-10-10\n",
      "No images found for date 2017-10-11\n",
      "File S2A_MSIL1C_20171012T112111_N0205_R037_T29TPE_20171012T112713.SAFE.zip already exists. Skipping download.\n",
      "File S2A_MSIL1C_20171012T112111_N0205_R037_T29TPE_20171012T112713.SAFE.zip already exists. Skipping download.\n",
      "No images found for date 2017-10-14\n",
      "No images found for date 2017-10-15\n",
      "No images found for date 2017-10-16\n",
      "File S2B_MSIL1C_20171017T112059_N0205_R037_T29TPE_20171017T112918.SAFE.zip already exists. Skipping download.\n",
      "File S2B_MSIL1C_20171017T112059_N0205_R037_T29TPE_20171017T112918.SAFE.zip already exists. Skipping download.\n",
      "No images found for date 2017-10-21\n",
      "File S2A_MSIL1C_20171022T112121_N0205_R037_T29TPE_20171022T112802.SAFE.zip already exists. Skipping download.\n",
      "File S2A_MSIL1C_20171022T112121_N0205_R037_T29TPE_20171022T112802.SAFE.zip already exists. Skipping download.\n",
      "No images found for date 2017-10-24\n",
      "No images found for date 2017-10-25\n",
      "No images found for date 2017-10-26\n",
      "File S2B_MSIL1C_20171027T112139_N0206_R037_T29TPE_20171027T145835.SAFE.zip already exists. Skipping download.\n",
      "File S2B_MSIL1C_20171027T112139_N0206_R037_T29TPE_20171027T145835.SAFE.zip already exists. Skipping download.\n",
      "No images found for date 2017-10-29\n",
      "No images found for date 2017-10-30\n",
      "No images found for date 2017-10-31\n",
      "File S2B_MSIL1C_20171106T112229_N0206_R037_T29TPE_20171106T132007.SAFE.zip already exists. Skipping download.\n",
      "No images found for date 2017-11-09\n",
      "No images found for date 2017-11-10\n",
      "File S2A_MSIL1C_20171111T112311_N0206_R037_T29TPE_20171111T132443.SAFE.zip already exists. Skipping download.\n",
      "File S2A_MSIL1C_20171111T112311_N0206_R037_T29TPE_20171111T132443.SAFE.zip already exists. Skipping download.\n",
      "No images found for date 2017-11-13\n",
      "No images found for date 2017-11-14\n",
      "No images found for date 2017-11-15\n",
      "File S2B_MSIL1C_20171116T112319_N0206_R037_T29TPE_20171116T133453.SAFE.zip already exists. Skipping download.\n",
      "File S2B_MSIL1C_20171116T112319_N0206_R037_T29TPE_20171116T133453.SAFE.zip already exists. Skipping download.\n",
      "No images found for date 2017-11-18\n",
      "No images found for date 2017-11-19\n",
      "No images found for date 2017-11-20\n",
      "File S2A_MSIL1C_20171121T112351_N0206_R037_T29TPE_20171121T133430.SAFE.zip already exists. Skipping download.\n",
      "File S2A_MSIL1C_20171121T112351_N0206_R037_T29TPE_20171121T133430.SAFE.zip already exists. Skipping download.\n",
      "No images found for date 2017-11-25\n",
      "No images found for date 2017-11-30\n",
      "No images found for date 2017-12-03\n",
      "No images found for date 2017-12-04\n",
      "No images found for date 2017-12-05\n",
      "File S2B_MSIL1C_20171206T112429_N0206_R037_T29TPE_20171206T132249.SAFE.zip already exists. Skipping download.\n",
      "File S2B_MSIL1C_20171206T112429_N0206_R037_T29TPE_20171206T132249.SAFE.zip already exists. Skipping download.\n",
      "No images found for date 2017-12-10\n",
      "File S2A_MSIL1C_20171211T112451_N0206_R037_T29TPE_20171211T132222.SAFE.zip already exists. Skipping download.\n",
      "File S2A_MSIL1C_20171211T112451_N0206_R037_T29TPE_20171211T132222.SAFE.zip already exists. Skipping download.\n",
      "No images found for date 2017-12-14\n",
      "No images found for date 2017-12-15\n",
      "File S2B_MSIL1C_20171216T112449_N0206_R037_T29TPE_20171216T132611.SAFE.zip already exists. Skipping download.\n",
      "File S2B_MSIL1C_20171216T112449_N0206_R037_T29TPE_20171216T132611.SAFE.zip already exists. Skipping download.\n",
      "No images found for date 2017-12-18\n",
      "No images found for date 2017-12-19\n",
      "No images found for date 2017-12-20\n",
      "File S2A_MSIL1C_20171221T112501_N0206_R037_T29TPE_20171221T114356.SAFE.zip already exists. Skipping download.\n",
      "File S2A_MSIL1C_20171221T112501_N0206_R037_T29TPE_20171221T114356.SAFE.zip already exists. Skipping download.\n",
      "No images found for date 2017-12-23\n",
      "No images found for date 2018-01-08\n",
      "File S2B_MSIL1C_20180115T112419_N0206_R037_T29TPE_20180115T133323.SAFE.zip already exists. Skipping download.\n",
      "File S2B_MSIL1C_20180115T112419_N0206_R037_T29TPE_20180115T133323.SAFE.zip already exists. Skipping download.\n",
      "No images found for date 2018-01-18\n",
      "No images found for date 2018-01-19\n",
      "No images found for date 2018-01-22\n",
      "No images found for date 2018-01-23\n",
      "No images found for date 2018-01-24\n",
      "File S2B_MSIL1C_20180125T112339_N0206_R037_T29TPE_20180125T132303.SAFE.zip already exists. Skipping download.\n",
      "No images found for date 2018-01-27\n",
      "No images found for date 2018-01-28\n",
      "No images found for date 2018-01-29\n",
      "File S2A_MSIL1C_20180130T112311_N0206_R037_T29TPE_20180130T133625.SAFE.zip already exists. Skipping download.\n",
      "File S2A_MSIL1C_20180130T112311_N0206_R037_T29TPE_20180130T133625.SAFE.zip already exists. Skipping download.\n",
      "No images found for date 2018-02-01\n",
      "No images found for date 2018-02-02\n",
      "No images found for date 2018-02-03\n",
      "No images found for date 2018-02-06\n",
      "No images found for date 2018-02-07\n",
      "No images found for date 2018-02-08\n",
      "File S2A_MSIL1C_20180209T112221_N0206_R037_T29TPE_20180209T164004.SAFE.zip already exists. Skipping download.\n",
      "No images found for date 2018-02-11\n",
      "No images found for date 2018-02-12\n",
      "File S2B_MSIL1C_20180214T112139_N0206_R037_T29TPE_20180214T133425.SAFE.zip already exists. Skipping download.\n",
      "File S2A_MSIL1C_20180219T112111_N0206_R037_T29TPE_20180219T133501.SAFE.zip already exists. Skipping download.\n",
      "No images found for date 2018-02-21\n",
      "No images found for date 2018-02-22\n",
      "No images found for date 2018-02-23\n",
      "File S2B_MSIL1C_20180224T112109_N0206_R037_T29TPE_20180224T164834.SAFE.zip already exists. Skipping download.\n",
      "File S2B_MSIL1C_20180224T112109_N0206_R037_T29TPE_20180224T164834.SAFE.zip already exists. Skipping download.\n",
      "No images found for date 2018-02-26\n"
     ]
    },
    {
     "name": "stderr",
     "output_type": "stream",
     "text": [
      "Downloading S2A_MSIL1C_20180301T112111_N0206_R037_T29TPE_20180301T114356.SAFE: 100%|█| 626M/626M [01:04<00:00, 9.75MB/s\n"
     ]
    },
    {
     "name": "stdout",
     "output_type": "stream",
     "text": [
      "File S2A_MSIL1C_20180301T112111_N0206_R037_T29TPE_20180301T114356.SAFE.zip already exists. Skipping download.\n",
      "No images found for date 2018-03-05\n"
     ]
    },
    {
     "name": "stderr",
     "output_type": "stream",
     "text": [
      "Downloading S2B_MSIL1C_20180306T112109_N0206_R037_T29TPE_20180306T152405.SAFE: 100%|█| 803M/803M [01:24<00:00, 9.53MB/s\n",
      "Downloading S2A_MSIL1C_20180321T112111_N0206_R037_T29TPE_20180321T134033.SAFE: 100%|█| 852M/852M [01:27<00:00, 9.76MB/s\n"
     ]
    },
    {
     "name": "stdout",
     "output_type": "stream",
     "text": [
      "No images found for date 2018-03-24\n",
      "No images found for date 2018-03-25\n"
     ]
    },
    {
     "name": "stderr",
     "output_type": "stream",
     "text": [
      "Downloading S2B_MSIL1C_20180326T112109_N0206_R037_T29TPE_20180326T132716.SAFE: 100%|█| 839M/839M [01:25<00:00, 9.83MB/s\n"
     ]
    },
    {
     "name": "stdout",
     "output_type": "stream",
     "text": [
      "File S2B_MSIL1C_20180326T112109_N0206_R037_T29TPE_20180326T132716.SAFE.zip already exists. Skipping download.\n",
      "No images found for date 2018-03-28\n",
      "No images found for date 2018-03-29\n"
     ]
    },
    {
     "name": "stderr",
     "output_type": "stream",
     "text": [
      "Downloading S2A_MSIL1C_20180331T112111_N0206_R037_T29TPE_20180331T152014.SAFE: 100%|█| 860M/860M [01:36<00:00, 8.87MB/s\n"
     ]
    },
    {
     "name": "stdout",
     "output_type": "stream",
     "text": [
      "No images found for date 2018-04-02\n",
      "No images found for date 2018-04-03\n"
     ]
    },
    {
     "name": "stderr",
     "output_type": "stream",
     "text": [
      "Downloading S2B_MSIL1C_20180405T112109_N0206_R037_T29TPE_20180405T132445.SAFE: 100%|█| 820M/820M [01:21<00:00, 10.1MB/s\n"
     ]
    },
    {
     "name": "stdout",
     "output_type": "stream",
     "text": [
      "File S2B_MSIL1C_20180405T112109_N0206_R037_T29TPE_20180405T132445.SAFE.zip already exists. Skipping download.\n"
     ]
    },
    {
     "name": "stderr",
     "output_type": "stream",
     "text": [
      "Downloading S2A_MSIL1C_20180410T112111_N0206_R037_T29TPE_20180410T132753.SAFE: 100%|█| 678M/678M [01:29<00:00, 7.57MB/s\n"
     ]
    },
    {
     "name": "stdout",
     "output_type": "stream",
     "text": [
      "No images found for date 2018-04-18\n",
      "No images found for date 2018-04-19\n"
     ]
    },
    {
     "name": "stderr",
     "output_type": "stream",
     "text": [
      "Downloading S2A_MSIL1C_20180420T112121_N0206_R037_T29TPE_20180420T132427.SAFE: 100%|█| 800M/800M [01:22<00:00, 9.70MB/s\n"
     ]
    },
    {
     "name": "stdout",
     "output_type": "stream",
     "text": [
      "File S2A_MSIL1C_20180420T112121_N0206_R037_T29TPE_20180420T132427.SAFE.zip already exists. Skipping download.\n",
      "No images found for date 2018-04-24\n"
     ]
    },
    {
     "name": "stderr",
     "output_type": "stream",
     "text": [
      "Downloading S2B_MSIL1C_20180425T112109_N0206_R037_T29TPE_20180425T165150.SAFE: 100%|█| 821M/821M [01:21<00:00, 10.1MB/s\n"
     ]
    },
    {
     "name": "stdout",
     "output_type": "stream",
     "text": [
      "File S2B_MSIL1C_20180425T112109_N0206_R037_T29TPE_20180425T165150.SAFE.zip already exists. Skipping download.\n",
      "No images found for date 2018-04-27\n",
      "No images found for date 2018-04-28\n",
      "No images found for date 2018-04-29\n",
      "No images found for date 2018-05-02\n",
      "No images found for date 2018-05-03\n",
      "No images found for date 2018-05-04\n"
     ]
    },
    {
     "name": "stderr",
     "output_type": "stream",
     "text": [
      "Downloading S2B_MSIL1C_20180505T112109_N0206_R037_T29TPE_20180505T135659.SAFE: 100%|█| 849M/849M [01:29<00:00, 9.47MB/s\n"
     ]
    },
    {
     "name": "stdout",
     "output_type": "stream",
     "text": [
      "File S2B_MSIL1C_20180505T112109_N0206_R037_T29TPE_20180505T135659.SAFE.zip already exists. Skipping download.\n",
      "No images found for date 2018-05-07\n",
      "No images found for date 2018-05-08\n",
      "No images found for date 2018-05-13\n",
      "No images found for date 2018-05-14\n"
     ]
    },
    {
     "name": "stderr",
     "output_type": "stream",
     "text": [
      "Downloading S2B_MSIL1C_20180515T112109_N0206_R037_T29TPE_20180515T135621.SAFE: 100%|█| 858M/858M [01:30<00:00, 9.43MB/s\n"
     ]
    },
    {
     "name": "stdout",
     "output_type": "stream",
     "text": [
      "File S2B_MSIL1C_20180515T112109_N0206_R037_T29TPE_20180515T135621.SAFE.zip already exists. Skipping download.\n",
      "No images found for date 2018-05-17\n",
      "No images found for date 2018-05-19\n"
     ]
    },
    {
     "name": "stderr",
     "output_type": "stream",
     "text": [
      "Downloading S2A_MSIL1C_20180520T112121_N0206_R037_T29TPE_20180520T132551.SAFE: 100%|█| 781M/781M [01:41<00:00, 7.70MB/s\n",
      "Downloading S2B_MSIL1C_20180614T112109_N0206_R037_T29TPE_20180614T164706.SAFE: 100%|█| 840M/840M [01:24<00:00, 9.97MB/s\n"
     ]
    },
    {
     "name": "stdout",
     "output_type": "stream",
     "text": [
      "No images found for date 2018-06-16\n",
      "No images found for date 2018-06-17\n",
      "No images found for date 2018-06-18\n"
     ]
    },
    {
     "name": "stderr",
     "output_type": "stream",
     "text": [
      "Downloading S2A_MSIL1C_20180619T112111_N0206_R037_T29TPE_20180619T132949.SAFE: 100%|█| 854M/854M [01:22<00:00, 10.3MB/s\n"
     ]
    },
    {
     "name": "stdout",
     "output_type": "stream",
     "text": [
      "File S2A_MSIL1C_20180619T112111_N0206_R037_T29TPE_20180619T132949.SAFE.zip already exists. Skipping download.\n",
      "No images found for date 2018-06-21\n",
      "No images found for date 2018-06-22\n",
      "No images found for date 2018-06-23\n"
     ]
    },
    {
     "name": "stderr",
     "output_type": "stream",
     "text": [
      "Downloading S2B_MSIL1C_20180624T112109_N0206_R037_T29TPE_20180624T132741.SAFE: 100%|█| 829M/829M [01:25<00:00, 9.67MB/s\n"
     ]
    },
    {
     "name": "stdout",
     "output_type": "stream",
     "text": [
      "File S2B_MSIL1C_20180624T112109_N0206_R037_T29TPE_20180624T132741.SAFE.zip already exists. Skipping download.\n",
      "No images found for date 2018-06-26\n",
      "No images found for date 2018-06-27\n"
     ]
    },
    {
     "name": "stderr",
     "output_type": "stream",
     "text": [
      "Downloading S2B_MSIL1C_20180704T112109_N0206_R037_T29TPE_20180704T151044.SAFE: 100%|█| 853M/853M [01:23<00:00, 10.3MB/s\n"
     ]
    },
    {
     "name": "stdout",
     "output_type": "stream",
     "text": [
      "File S2B_MSIL1C_20180704T112109_N0206_R037_T29TPE_20180704T151044.SAFE.zip already exists. Skipping download.\n",
      "No images found for date 2018-07-06\n",
      "No images found for date 2018-07-07\n",
      "No images found for date 2018-07-08\n"
     ]
    },
    {
     "name": "stderr",
     "output_type": "stream",
     "text": [
      "Downloading S2A_MSIL1C_20180709T112121_N0206_R037_T29TPE_20180709T133743.SAFE: 100%|█| 851M/851M [01:25<00:00, 9.99MB/s\n"
     ]
    },
    {
     "name": "stdout",
     "output_type": "stream",
     "text": [
      "File S2A_MSIL1C_20180709T112121_N0206_R037_T29TPE_20180709T133743.SAFE.zip already exists. Skipping download.\n",
      "No images found for date 2018-07-11\n",
      "No images found for date 2018-07-12\n",
      "No images found for date 2018-07-13\n"
     ]
    },
    {
     "name": "stderr",
     "output_type": "stream",
     "text": [
      "Downloading S2B_MSIL1C_20180714T112109_N0206_R037_T29TPE_20180714T150923.SAFE: 100%|█| 853M/853M [01:24<00:00, 10.0MB/s\n"
     ]
    },
    {
     "name": "stdout",
     "output_type": "stream",
     "text": [
      "File S2B_MSIL1C_20180714T112109_N0206_R037_T29TPE_20180714T150923.SAFE.zip already exists. Skipping download.\n",
      "No images found for date 2018-07-16\n",
      "No images found for date 2018-07-17\n",
      "No images found for date 2018-07-18\n"
     ]
    },
    {
     "name": "stderr",
     "output_type": "stream",
     "text": [
      "Downloading S2A_MSIL1C_20180719T112121_N0206_R037_T29TPE_20180719T133107.SAFE: 100%|█| 859M/859M [01:22<00:00, 10.4MB/s\n"
     ]
    },
    {
     "name": "stdout",
     "output_type": "stream",
     "text": [
      "File S2A_MSIL1C_20180719T112121_N0206_R037_T29TPE_20180719T133107.SAFE.zip already exists. Skipping download.\n",
      "No images found for date 2018-07-21\n",
      "No images found for date 2018-07-22\n",
      "No images found for date 2018-07-23\n"
     ]
    },
    {
     "name": "stderr",
     "output_type": "stream",
     "text": [
      "Downloading S2B_MSIL1C_20180724T112109_N0206_R037_T29TPE_20180724T150820.SAFE: 100%|█| 863M/863M [01:26<00:00, 9.94MB/s\n"
     ]
    },
    {
     "name": "stdout",
     "output_type": "stream",
     "text": [
      "No images found for date 2018-07-26\n",
      "No images found for date 2018-07-27\n",
      "No images found for date 2018-07-28\n"
     ]
    },
    {
     "name": "stderr",
     "output_type": "stream",
     "text": [
      "Downloading S2A_MSIL1C_20180729T112111_N0206_R037_T29TPE_20180729T133441.SAFE: 100%|█| 862M/862M [01:37<00:00, 8.85MB/s\n"
     ]
    },
    {
     "name": "stdout",
     "output_type": "stream",
     "text": [
      "File S2A_MSIL1C_20180729T112111_N0206_R037_T29TPE_20180729T133441.SAFE.zip already exists. Skipping download.\n",
      "No images found for date 2018-07-31\n",
      "No images found for date 2018-08-01\n"
     ]
    },
    {
     "name": "stderr",
     "output_type": "stream",
     "text": [
      "Downloading S2B_MSIL1C_20180803T112109_N0206_R037_T29TPE_20180803T152545.SAFE: 100%|█| 798M/798M [01:29<00:00, 8.96MB/s\n"
     ]
    },
    {
     "name": "stdout",
     "output_type": "stream",
     "text": [
      "File S2B_MSIL1C_20180803T112109_N0206_R037_T29TPE_20180803T152545.SAFE.zip already exists. Skipping download.\n",
      "No images found for date 2018-08-05\n",
      "No images found for date 2018-08-06\n",
      "No images found for date 2018-08-07\n"
     ]
    },
    {
     "name": "stderr",
     "output_type": "stream",
     "text": [
      "Downloading S2A_MSIL1C_20180808T112111_N0206_R037_T29TPE_20180808T133355.SAFE: 100%|█| 859M/859M [01:31<00:00, 9.43MB/s\n"
     ]
    },
    {
     "name": "stdout",
     "output_type": "stream",
     "text": [
      "File S2A_MSIL1C_20180808T112111_N0206_R037_T29TPE_20180808T133355.SAFE.zip already exists. Skipping download.\n",
      "No images found for date 2018-08-10\n",
      "No images found for date 2018-08-11\n",
      "No images found for date 2018-08-12\n"
     ]
    },
    {
     "name": "stderr",
     "output_type": "stream",
     "text": [
      "Downloading S2B_MSIL1C_20180813T112109_N0206_R037_T29TPE_20180813T153601.SAFE: 100%|█| 862M/862M [01:36<00:00, 8.96MB/s\n"
     ]
    },
    {
     "name": "stdout",
     "output_type": "stream",
     "text": [
      "File S2B_MSIL1C_20180813T112109_N0206_R037_T29TPE_20180813T153601.SAFE.zip already exists. Skipping download.\n",
      "No images found for date 2018-08-15\n",
      "No images found for date 2018-08-16\n",
      "No images found for date 2018-08-17\n"
     ]
    },
    {
     "name": "stderr",
     "output_type": "stream",
     "text": [
      "Downloading S2A_MSIL1C_20180818T112111_N0206_R037_T29TPE_20180818T135647.SAFE: 100%|█| 861M/861M [01:48<00:00, 7.97MB/s\n"
     ]
    },
    {
     "name": "stdout",
     "output_type": "stream",
     "text": [
      "File S2A_MSIL1C_20180818T112111_N0206_R037_T29TPE_20180818T135647.SAFE.zip already exists. Skipping download.\n",
      "No images found for date 2018-08-20\n",
      "No images found for date 2018-08-21\n",
      "No images found for date 2018-08-22\n"
     ]
    },
    {
     "name": "stderr",
     "output_type": "stream",
     "text": [
      "Downloading S2B_MSIL1C_20180823T112109_N0206_R037_T29TPE_20180823T152254.SAFE: 100%|█| 832M/832M [01:25<00:00, 9.73MB/s\n"
     ]
    },
    {
     "name": "stdout",
     "output_type": "stream",
     "text": [
      "File S2B_MSIL1C_20180823T112109_N0206_R037_T29TPE_20180823T152254.SAFE.zip already exists. Skipping download.\n",
      "No images found for date 2018-08-25\n",
      "No images found for date 2018-08-26\n"
     ]
    },
    {
     "name": "stderr",
     "output_type": "stream",
     "text": [
      "Downloading S2A_MSIL1C_20180828T112111_N0206_R037_T29TPE_20180828T135154.SAFE: 100%|█| 851M/851M [01:36<00:00, 8.82MB/s\n"
     ]
    },
    {
     "name": "stdout",
     "output_type": "stream",
     "text": [
      "File S2A_MSIL1C_20180828T112111_N0206_R037_T29TPE_20180828T135154.SAFE.zip already exists. Skipping download.\n",
      "No images found for date 2018-08-30\n",
      "No images found for date 2018-08-31\n",
      "No images found for date 2018-09-01\n"
     ]
    },
    {
     "name": "stderr",
     "output_type": "stream",
     "text": [
      "Downloading S2B_MSIL1C_20180902T112109_N0206_R037_T29TPE_20180902T140408.SAFE: 100%|█| 830M/830M [01:29<00:00, 9.27MB/s\n"
     ]
    },
    {
     "name": "stdout",
     "output_type": "stream",
     "text": [
      "File S2B_MSIL1C_20180902T112109_N0206_R037_T29TPE_20180902T140408.SAFE.zip already exists. Skipping download.\n",
      "No images found for date 2018-09-09\n",
      "No images found for date 2018-09-10\n",
      "No images found for date 2018-09-11\n"
     ]
    },
    {
     "name": "stderr",
     "output_type": "stream",
     "text": [
      "Downloading S2B_MSIL1C_20180912T112109_N0206_R037_T29TPE_20180912T184030.SAFE: 100%|█| 859M/859M [01:33<00:00, 9.19MB/s\n"
     ]
    },
    {
     "name": "stdout",
     "output_type": "stream",
     "text": [
      "File S2B_MSIL1C_20180912T112109_N0206_R037_T29TPE_20180912T184030.SAFE.zip already exists. Skipping download.\n",
      "No images found for date 2018-09-14\n",
      "No images found for date 2018-09-15\n",
      "No images found for date 2018-09-16\n"
     ]
    },
    {
     "name": "stderr",
     "output_type": "stream",
     "text": [
      "Downloading S2A_MSIL1C_20180917T112111_N0206_R037_T29TPE_20180917T114424.SAFE: 100%|█| 850M/850M [01:41<00:00, 8.35MB/s\n"
     ]
    },
    {
     "name": "stdout",
     "output_type": "stream",
     "text": [
      "File S2A_MSIL1C_20180917T112111_N0206_R037_T29TPE_20180917T114424.SAFE.zip already exists. Skipping download.\n",
      "No images found for date 2018-09-19\n",
      "No images found for date 2018-09-20\n",
      "No images found for date 2018-09-21\n"
     ]
    },
    {
     "name": "stderr",
     "output_type": "stream",
     "text": [
      "Downloading S2B_MSIL1C_20180922T112109_N0206_R037_T29TPE_20180922T151938.SAFE: 100%|█| 860M/860M [01:24<00:00, 10.1MB/s\n"
     ]
    },
    {
     "name": "stdout",
     "output_type": "stream",
     "text": [
      "File S2B_MSIL1C_20180922T112109_N0206_R037_T29TPE_20180922T151938.SAFE.zip already exists. Skipping download.\n",
      "No images found for date 2018-09-24\n",
      "No images found for date 2018-09-25\n",
      "No images found for date 2018-09-26\n"
     ]
    },
    {
     "name": "stderr",
     "output_type": "stream",
     "text": [
      "Downloading S2A_MSIL1C_20180927T112111_N0206_R037_T29TPE_20180927T114442.SAFE: 100%|█| 636M/636M [01:04<00:00, 9.81MB/s\n"
     ]
    },
    {
     "name": "stdout",
     "output_type": "stream",
     "text": [
      "File S2A_MSIL1C_20180927T112111_N0206_R037_T29TPE_20180927T114442.SAFE.zip already exists. Skipping download.\n",
      "No images found for date 2018-09-29\n",
      "No images found for date 2018-09-30\n",
      "No images found for date 2018-10-01\n"
     ]
    },
    {
     "name": "stderr",
     "output_type": "stream",
     "text": [
      "Downloading S2B_MSIL1C_20181002T112109_N0206_R037_T29TPE_20181002T150612.SAFE: 100%|█| 836M/836M [01:28<00:00, 9.44MB/s\n"
     ]
    },
    {
     "name": "stdout",
     "output_type": "stream",
     "text": [
      "File S2B_MSIL1C_20181002T112109_N0206_R037_T29TPE_20181002T150612.SAFE.zip already exists. Skipping download.\n",
      "No images found for date 2018-10-04\n",
      "No images found for date 2018-10-05\n",
      "No images found for date 2018-10-06\n"
     ]
    },
    {
     "name": "stderr",
     "output_type": "stream",
     "text": [
      "Downloading S2A_MSIL1C_20181007T112111_N0206_R037_T29TPE_20181007T133341.SAFE: 100%|█| 866M/866M [01:31<00:00, 9.44MB/s\n"
     ]
    },
    {
     "name": "stdout",
     "output_type": "stream",
     "text": [
      "File S2A_MSIL1C_20181007T112111_N0206_R037_T29TPE_20181007T133341.SAFE.zip already exists. Skipping download.\n",
      "No images found for date 2018-10-09\n",
      "No images found for date 2018-10-11\n"
     ]
    },
    {
     "name": "stderr",
     "output_type": "stream",
     "text": [
      "Downloading S2B_MSIL1C_20181012T112109_N0206_R037_T29TPE_20181012T151546.SAFE: 100%|█| 834M/834M [01:45<00:00, 7.90MB/s\n",
      "Downloading S2A_MSIL1C_20181017T112111_N0206_R037_T29TPE_20181017T114739.SAFE: 100%|█| 853M/853M [01:25<00:00, 9.98MB/s\n"
     ]
    },
    {
     "name": "stdout",
     "output_type": "stream",
     "text": [
      "No images found for date 2018-10-19\n"
     ]
    },
    {
     "name": "stderr",
     "output_type": "stream",
     "text": [
      "Downloading S2B_MSIL1C_20181022T112119_N0206_R037_T29TPE_20181022T151431.SAFE: 100%|█| 837M/837M [01:25<00:00, 9.84MB/s\n"
     ]
    },
    {
     "name": "stdout",
     "output_type": "stream",
     "text": [
      "No images found for date 2018-10-24\n",
      "No images found for date 2018-10-25\n",
      "No images found for date 2018-10-26\n"
     ]
    },
    {
     "name": "stderr",
     "output_type": "stream",
     "text": [
      "Downloading S2A_MSIL1C_20181027T112151_N0206_R037_T29TPE_20181027T114945.SAFE: 100%|█| 849M/849M [01:23<00:00, 10.1MB/s\n"
     ]
    },
    {
     "name": "stdout",
     "output_type": "stream",
     "text": [
      "File S2A_MSIL1C_20181027T112151_N0206_R037_T29TPE_20181027T114945.SAFE.zip already exists. Skipping download.\n",
      "No images found for date 2018-10-29\n",
      "No images found for date 2018-10-30\n",
      "No images found for date 2018-11-13\n"
     ]
    },
    {
     "name": "stderr",
     "output_type": "stream",
     "text": [
      "Downloading S2A_MSIL1C_20181126T112411_N0207_R037_T29TPE_20181126T123407.SAFE: 100%|█| 829M/829M [01:22<00:00, 10.0MB/s\n"
     ]
    },
    {
     "name": "stdout",
     "output_type": "stream",
     "text": [
      "No images found for date 2018-11-28\n",
      "No images found for date 2018-11-30\n",
      "No images found for date 2018-12-04\n",
      "No images found for date 2018-12-05\n"
     ]
    },
    {
     "name": "stderr",
     "output_type": "stream",
     "text": [
      "Downloading S2A_MSIL1C_20181206T112431_N0207_R037_T29TPE_20181206T115446.SAFE: 100%|█| 845M/845M [01:23<00:00, 10.2MB/s\n"
     ]
    },
    {
     "name": "stdout",
     "output_type": "stream",
     "text": [
      "File S2A_MSIL1C_20181206T112431_N0207_R037_T29TPE_20181206T115446.SAFE.zip already exists. Skipping download.\n",
      "No images found for date 2018-12-08\n",
      "No images found for date 2018-12-09\n"
     ]
    },
    {
     "name": "stderr",
     "output_type": "stream",
     "text": [
      "Downloading S2A_MSIL1C_20181216T112451_N0207_R037_T29TPE_20181216T114651.SAFE: 100%|█| 811M/811M [01:24<00:00, 9.62MB/s\n"
     ]
    },
    {
     "name": "stdout",
     "output_type": "stream",
     "text": [
      "No images found for date 2018-12-28\n",
      "No images found for date 2018-12-29\n",
      "No images found for date 2018-12-30\n"
     ]
    },
    {
     "name": "stderr",
     "output_type": "stream",
     "text": [
      "Downloading S2B_MSIL1C_20181231T112459_N0207_R037_T29TPE_20181231T114603.SAFE: 100%|█| 840M/840M [01:27<00:00, 9.56MB/s\n"
     ]
    },
    {
     "name": "stdout",
     "output_type": "stream",
     "text": [
      "File S2B_MSIL1C_20181231T112459_N0207_R037_T29TPE_20181231T114603.SAFE.zip already exists. Skipping download.\n",
      "No images found for date 2019-01-02\n",
      "No images found for date 2019-01-03\n",
      "No images found for date 2019-01-04\n"
     ]
    },
    {
     "name": "stderr",
     "output_type": "stream",
     "text": [
      "Downloading S2A_MSIL1C_20190105T112441_N0207_R037_T29TPE_20190105T114455.SAFE: 100%|█| 843M/843M [01:27<00:00, 9.68MB/s\n"
     ]
    },
    {
     "name": "stdout",
     "output_type": "stream",
     "text": [
      "File S2A_MSIL1C_20190105T112441_N0207_R037_T29TPE_20190105T114455.SAFE.zip already exists. Skipping download.\n",
      "No images found for date 2019-01-07\n",
      "No images found for date 2019-01-08\n",
      "No images found for date 2019-01-09\n"
     ]
    },
    {
     "name": "stderr",
     "output_type": "stream",
     "text": [
      "Downloading S2B_MSIL1C_20190110T112439_N0207_R037_T29TPE_20190110T114420.SAFE: 100%|█| 844M/844M [01:23<00:00, 10.1MB/s\n"
     ]
    },
    {
     "name": "stdout",
     "output_type": "stream",
     "text": [
      "File S2B_MSIL1C_20190110T112439_N0207_R037_T29TPE_20190110T114420.SAFE.zip already exists. Skipping download.\n",
      "No images found for date 2019-01-12\n",
      "No images found for date 2019-01-13\n",
      "No images found for date 2019-01-14\n"
     ]
    },
    {
     "name": "stderr",
     "output_type": "stream",
     "text": [
      "Downloading S2A_MSIL1C_20190115T112421_N0207_R037_T29TPE_20190115T115033.SAFE: 100%|█| 840M/840M [01:23<00:00, 10.0MB/s\n"
     ]
    },
    {
     "name": "stdout",
     "output_type": "stream",
     "text": [
      "No images found for date 2019-01-17\n"
     ]
    },
    {
     "name": "stderr",
     "output_type": "stream",
     "text": [
      "Downloading S2B_MSIL1C_20190120T112409_N0207_R037_T29TPE_20190120T132223.SAFE: 100%|█| 846M/846M [01:35<00:00, 8.84MB/s\n"
     ]
    },
    {
     "name": "stdout",
     "output_type": "stream",
     "text": [
      "File S2B_MSIL1C_20190120T112409_N0207_R037_T29TPE_20190120T132223.SAFE.zip already exists. Skipping download.\n",
      "No images found for date 2019-01-24\n"
     ]
    },
    {
     "name": "stderr",
     "output_type": "stream",
     "text": [
      "Downloading S2A_MSIL1C_20190125T112341_N0207_R037_T29TPE_20190125T132414.SAFE: 100%|█| 857M/857M [01:25<00:00, 9.98MB/s\n"
     ]
    },
    {
     "name": "stdout",
     "output_type": "stream",
     "text": [
      "File S2A_MSIL1C_20190125T112341_N0207_R037_T29TPE_20190125T132414.SAFE.zip already exists. Skipping download.\n",
      "No images found for date 2019-01-27\n",
      "No images found for date 2019-02-02\n"
     ]
    },
    {
     "name": "stderr",
     "output_type": "stream",
     "text": [
      "Downloading S2A_MSIL1C_20190204T112251_N0207_R037_T29TPE_20190204T132506.SAFE: 100%|█| 853M/853M [01:39<00:00, 8.61MB/s\n"
     ]
    },
    {
     "name": "stdout",
     "output_type": "stream",
     "text": [
      "File S2A_MSIL1C_20190204T112251_N0207_R037_T29TPE_20190204T132506.SAFE.zip already exists. Skipping download.\n",
      "No images found for date 2019-02-06\n",
      "No images found for date 2019-02-08\n",
      "No images found for date 2019-02-11\n",
      "No images found for date 2019-02-12\n",
      "No images found for date 2019-02-13\n"
     ]
    },
    {
     "name": "stderr",
     "output_type": "stream",
     "text": [
      "Downloading S2A_MSIL1C_20190214T112151_N0207_R037_T29TPE_20190214T114435.SAFE: 100%|█| 842M/842M [01:32<00:00, 9.07MB/s\n"
     ]
    },
    {
     "name": "stdout",
     "output_type": "stream",
     "text": [
      "No images found for date 2019-02-16\n",
      "No images found for date 2019-02-17\n",
      "No images found for date 2019-02-22\n"
     ]
    },
    {
     "name": "stderr",
     "output_type": "stream",
     "text": [
      "Downloading S2A_MSIL1C_20190224T112111_N0207_R037_T29TPE_20190224T150426.SAFE: 100%|█| 848M/848M [01:28<00:00, 9.63MB/s\n"
     ]
    },
    {
     "name": "stdout",
     "output_type": "stream",
     "text": [
      "File S2A_MSIL1C_20190224T112111_N0207_R037_T29TPE_20190224T150426.SAFE.zip already exists. Skipping download.\n",
      "No images found for date 2019-02-26\n",
      "No images found for date 2019-02-27\n"
     ]
    },
    {
     "name": "stderr",
     "output_type": "stream",
     "text": [
      "Downloading S2B_MSIL1C_20190301T112109_N0207_R037_T29TPE_20190301T132852.SAFE: 100%|█| 836M/836M [01:24<00:00, 9.94MB/s\n"
     ]
    },
    {
     "name": "stdout",
     "output_type": "stream",
     "text": [
      "File S2B_MSIL1C_20190301T112109_N0207_R037_T29TPE_20190301T132852.SAFE.zip already exists. Skipping download.\n",
      "No images found for date 2019-03-09\n",
      "No images found for date 2019-03-10\n"
     ]
    },
    {
     "name": "stderr",
     "output_type": "stream",
     "text": [
      "Downloading S2B_MSIL1C_20190311T112109_N0207_R037_T29TPE_20190311T132540.SAFE: 100%|█| 849M/849M [01:27<00:00, 9.75MB/s\n"
     ]
    },
    {
     "name": "stdout",
     "output_type": "stream",
     "text": [
      "File S2B_MSIL1C_20190311T112109_N0207_R037_T29TPE_20190311T132540.SAFE.zip already exists. Skipping download.\n",
      "No images found for date 2019-03-13\n",
      "No images found for date 2019-03-14\n",
      "No images found for date 2019-03-15\n"
     ]
    },
    {
     "name": "stderr",
     "output_type": "stream",
     "text": [
      "Downloading S2A_MSIL1C_20190316T112111_N0207_R037_T29TPE_20190316T132306.SAFE: 100%|█| 858M/858M [01:24<00:00, 10.2MB/s\n"
     ]
    },
    {
     "name": "stdout",
     "output_type": "stream",
     "text": [
      "File S2A_MSIL1C_20190316T112111_N0207_R037_T29TPE_20190316T132306.SAFE.zip already exists. Skipping download.\n",
      "No images found for date 2019-03-18\n",
      "No images found for date 2019-03-19\n",
      "No images found for date 2019-03-20\n"
     ]
    },
    {
     "name": "stderr",
     "output_type": "stream",
     "text": [
      "Downloading S2B_MSIL1C_20190321T112119_N0207_R037_T29TPE_20190321T150511.SAFE: 100%|█| 857M/857M [01:32<00:00, 9.24MB/s\n"
     ]
    },
    {
     "name": "stdout",
     "output_type": "stream",
     "text": [
      "File S2B_MSIL1C_20190321T112119_N0207_R037_T29TPE_20190321T150511.SAFE.zip already exists. Skipping download.\n",
      "No images found for date 2019-03-23\n",
      "No images found for date 2019-03-24\n",
      "No images found for date 2019-03-25\n"
     ]
    },
    {
     "name": "stderr",
     "output_type": "stream",
     "text": [
      "Downloading S2A_MSIL1C_20190326T112111_N0207_R037_T29TPE_20190326T182129.SAFE: 100%|█| 859M/859M [01:33<00:00, 9.23MB/s\n"
     ]
    },
    {
     "name": "stdout",
     "output_type": "stream",
     "text": [
      "File S2A_MSIL1C_20190326T112111_N0207_R037_T29TPE_20190326T182129.SAFE.zip already exists. Skipping download.\n",
      "No images found for date 2019-03-28\n",
      "No images found for date 2019-03-29\n",
      "No images found for date 2019-03-30\n"
     ]
    },
    {
     "name": "stderr",
     "output_type": "stream",
     "text": [
      "Downloading S2B_MSIL1C_20190331T112119_N0207_R037_T29TPE_20190331T134033.SAFE: 100%|█| 822M/822M [01:21<00:00, 10.1MB/s\n"
     ]
    },
    {
     "name": "stdout",
     "output_type": "stream",
     "text": [
      "No images found for date 2019-04-04\n"
     ]
    },
    {
     "name": "stderr",
     "output_type": "stream",
     "text": [
      "Downloading S2B_MSIL1C_20190410T112119_N0207_R037_T29TPE_20190410T150302.SAFE: 100%|█| 840M/840M [01:28<00:00, 9.52MB/s\n"
     ]
    },
    {
     "name": "stdout",
     "output_type": "stream",
     "text": [
      "No images found for date 2019-04-12\n"
     ]
    },
    {
     "name": "stderr",
     "output_type": "stream",
     "text": [
      "Downloading S2A_MSIL1C_20190415T112121_N0207_R037_T29TPE_20190415T114420.SAFE: 100%|█| 738M/738M [01:16<00:00, 9.67MB/s\n",
      "Downloading S2B_MSIL1C_20190420T112119_N0207_R037_T29TPE_20190420T132504.SAFE: 100%|█| 827M/827M [01:22<00:00, 10.0MB/s\n"
     ]
    },
    {
     "name": "stdout",
     "output_type": "stream",
     "text": [
      "File S2B_MSIL1C_20190420T112119_N0207_R037_T29TPE_20190420T132504.SAFE.zip already exists. Skipping download.\n",
      "No images found for date 2019-04-22\n",
      "No images found for date 2019-04-27\n",
      "No images found for date 2019-04-29\n"
     ]
    },
    {
     "name": "stderr",
     "output_type": "stream",
     "text": [
      "Downloading S2B_MSIL1C_20190430T112119_N0207_R037_T29TPE_20190430T132008.SAFE: 100%|█| 853M/853M [01:26<00:00, 9.85MB/s\n"
     ]
    },
    {
     "name": "stdout",
     "output_type": "stream",
     "text": [
      "File S2B_MSIL1C_20190430T112119_N0207_R037_T29TPE_20190430T132008.SAFE.zip already exists. Skipping download.\n",
      "No images found for date 2019-05-02\n",
      "No images found for date 2019-05-03\n",
      "No images found for date 2019-05-04\n"
     ]
    },
    {
     "name": "stderr",
     "output_type": "stream",
     "text": [
      "Downloading S2A_MSIL1C_20190505T112121_N0207_R037_T29TPE_20190505T114631.SAFE: 100%|█| 844M/844M [01:21<00:00, 10.3MB/s\n"
     ]
    },
    {
     "name": "stdout",
     "output_type": "stream",
     "text": [
      "File S2A_MSIL1C_20190505T112121_N0207_R037_T29TPE_20190505T114631.SAFE.zip already exists. Skipping download.\n"
     ]
    },
    {
     "name": "stderr",
     "output_type": "stream",
     "text": [
      "Downloading S2B_MSIL1C_20190510T112119_N0207_R037_T29TPE_20190510T132401.SAFE: 100%|█| 867M/867M [01:27<00:00, 9.88MB/s\n"
     ]
    },
    {
     "name": "stdout",
     "output_type": "stream",
     "text": [
      "No images found for date 2019-05-12\n",
      "No images found for date 2019-05-13\n",
      "No images found for date 2019-05-14\n"
     ]
    },
    {
     "name": "stderr",
     "output_type": "stream",
     "text": [
      "Downloading S2A_MSIL1C_20190515T112121_N0207_R037_T29TPE_20190515T132120.SAFE: 100%|█| 646M/646M [01:07<00:00, 9.58MB/s\n"
     ]
    },
    {
     "name": "stdout",
     "output_type": "stream",
     "text": [
      "File S2A_MSIL1C_20190515T112121_N0207_R037_T29TPE_20190515T132120.SAFE.zip already exists. Skipping download.\n",
      "No images found for date 2019-05-19\n",
      "No images found for date 2019-05-21\n",
      "No images found for date 2019-05-22\n",
      "No images found for date 2019-05-23\n",
      "No images found for date 2019-05-24\n"
     ]
    },
    {
     "name": "stderr",
     "output_type": "stream",
     "text": [
      "Downloading S2A_MSIL1C_20190525T112121_N0207_R037_T29TPE_20190525T132011.SAFE: 100%|█| 869M/869M [01:26<00:00, 10.1MB/s\n"
     ]
    },
    {
     "name": "stdout",
     "output_type": "stream",
     "text": [
      "File S2A_MSIL1C_20190525T112121_N0207_R037_T29TPE_20190525T132011.SAFE.zip already exists. Skipping download.\n",
      "No images found for date 2019-05-27\n",
      "No images found for date 2019-05-28\n",
      "No images found for date 2019-05-29\n"
     ]
    },
    {
     "name": "stderr",
     "output_type": "stream",
     "text": [
      "Downloading S2B_MSIL1C_20190530T112119_N0207_R037_T29TPE_20190530T124016.SAFE: 100%|█| 870M/870M [01:25<00:00, 10.2MB/s\n"
     ]
    },
    {
     "name": "stdout",
     "output_type": "stream",
     "text": [
      "File S2B_MSIL1C_20190530T112119_N0207_R037_T29TPE_20190530T124016.SAFE.zip already exists. Skipping download.\n",
      "No images found for date 2019-06-01\n",
      "No images found for date 2019-06-02\n",
      "No images found for date 2019-06-08\n"
     ]
    },
    {
     "name": "stderr",
     "output_type": "stream",
     "text": [
      "Downloading S2B_MSIL1C_20190609T112119_N0207_R037_T29TPE_20190609T133122.SAFE: 100%|█| 858M/858M [01:25<00:00, 10.0MB/s\n"
     ]
    },
    {
     "name": "stdout",
     "output_type": "stream",
     "text": [
      "File S2B_MSIL1C_20190609T112119_N0207_R037_T29TPE_20190609T133122.SAFE.zip already exists. Skipping download.\n",
      "No images found for date 2019-06-11\n",
      "No images found for date 2019-06-12\n",
      "No images found for date 2019-06-13\n"
     ]
    },
    {
     "name": "stderr",
     "output_type": "stream",
     "text": [
      "Downloading S2A_MSIL1C_20190614T112121_N0207_R037_T29TPE_20190614T120104.SAFE: 100%|█| 876M/876M [01:36<00:00, 9.10MB/s\n"
     ]
    },
    {
     "name": "stdout",
     "output_type": "stream",
     "text": [
      "No images found for date 2019-06-28\n",
      "No images found for date 2019-07-01\n",
      "No images found for date 2019-07-02\n",
      "No images found for date 2019-07-06\n"
     ]
    },
    {
     "name": "stderr",
     "output_type": "stream",
     "text": [
      "Downloading S2B_MSIL1C_20190709T112119_N0208_R037_T29TPE_20190709T131959.SAFE: 100%|█| 861M/861M [01:25<00:00, 10.1MB/s\n"
     ]
    },
    {
     "name": "stdout",
     "output_type": "stream",
     "text": [
      "File S2B_MSIL1C_20190709T112119_N0208_R037_T29TPE_20190709T131959.SAFE.zip already exists. Skipping download.\n",
      "No images found for date 2019-07-11\n"
     ]
    },
    {
     "name": "stderr",
     "output_type": "stream",
     "text": [
      "Downloading S2A_MSIL1C_20190714T112121_N0208_R037_T29TPE_20190714T114812.SAFE: 100%|█| 856M/856M [01:27<00:00, 9.83MB/s\n"
     ]
    },
    {
     "name": "stdout",
     "output_type": "stream",
     "text": [
      "File S2A_MSIL1C_20190714T112121_N0208_R037_T29TPE_20190714T114812.SAFE.zip already exists. Skipping download.\n",
      "No images found for date 2019-07-16\n",
      "No images found for date 2019-07-17\n",
      "No images found for date 2019-07-18\n"
     ]
    },
    {
     "name": "stderr",
     "output_type": "stream",
     "text": [
      "Downloading S2B_MSIL1C_20190719T112119_N0208_R037_T29TPE_20190719T123037.SAFE: 100%|█| 862M/862M [01:40<00:00, 8.62MB/s\n"
     ]
    },
    {
     "name": "stdout",
     "output_type": "stream",
     "text": [
      "File S2B_MSIL1C_20190719T112119_N0208_R037_T29TPE_20190719T123037.SAFE.zip already exists. Skipping download.\n",
      "No images found for date 2019-07-21\n",
      "No images found for date 2019-07-22\n",
      "No images found for date 2019-07-23\n"
     ]
    },
    {
     "name": "stderr",
     "output_type": "stream",
     "text": [
      "Downloading S2A_MSIL1C_20190724T112121_N0208_R037_T29TPE_20190724T115917.SAFE: 100%|█| 850M/850M [01:27<00:00, 9.67MB/s\n"
     ]
    },
    {
     "name": "stdout",
     "output_type": "stream",
     "text": [
      "File S2A_MSIL1C_20190724T112121_N0208_R037_T29TPE_20190724T115917.SAFE.zip already exists. Skipping download.\n",
      "No images found for date 2019-07-28\n"
     ]
    },
    {
     "name": "stderr",
     "output_type": "stream",
     "text": [
      "Downloading S2B_MSIL1C_20190729T112119_N0208_R037_T29TPE_20190729T132407.SAFE: 100%|█| 872M/872M [01:24<00:00, 10.3MB/s\n"
     ]
    },
    {
     "name": "stdout",
     "output_type": "stream",
     "text": [
      "File S2B_MSIL1C_20190729T112119_N0208_R037_T29TPE_20190729T132407.SAFE.zip already exists. Skipping download.\n",
      "No images found for date 2019-08-01\n",
      "No images found for date 2019-08-02\n"
     ]
    },
    {
     "name": "stderr",
     "output_type": "stream",
     "text": [
      "Downloading S2A_MSIL1C_20190803T112121_N0208_R037_T29TPE_20190803T132806.SAFE: 100%|█| 867M/867M [01:40<00:00, 8.63MB/s\n"
     ]
    },
    {
     "name": "stdout",
     "output_type": "stream",
     "text": [
      "File S2A_MSIL1C_20190803T112121_N0208_R037_T29TPE_20190803T132806.SAFE.zip already exists. Skipping download.\n",
      "No images found for date 2019-08-05\n",
      "No images found for date 2019-08-06\n",
      "No images found for date 2019-08-10\n",
      "No images found for date 2019-08-12\n"
     ]
    },
    {
     "name": "stderr",
     "output_type": "stream",
     "text": [
      "Downloading S2A_MSIL1C_20190813T112121_N0208_R037_T29TPE_20190813T114617.SAFE: 100%|█| 854M/854M [01:23<00:00, 10.3MB/s\n"
     ]
    },
    {
     "name": "stdout",
     "output_type": "stream",
     "text": [
      "File S2A_MSIL1C_20190813T112121_N0208_R037_T29TPE_20190813T114617.SAFE.zip already exists. Skipping download.\n",
      "No images found for date 2019-08-15\n",
      "No images found for date 2019-08-16\n",
      "No images found for date 2019-08-17\n",
      "No images found for date 2019-08-20\n",
      "No images found for date 2019-08-21\n",
      "No images found for date 2019-08-22\n"
     ]
    },
    {
     "name": "stderr",
     "output_type": "stream",
     "text": [
      "Downloading S2A_MSIL1C_20190823T112121_N0208_R037_T29TPE_20190823T115457.SAFE: 100%|█| 856M/856M [01:25<00:00, 10.1MB/s\n"
     ]
    },
    {
     "name": "stdout",
     "output_type": "stream",
     "text": [
      "No images found for date 2019-08-27\n"
     ]
    },
    {
     "name": "stderr",
     "output_type": "stream",
     "text": [
      "Downloading S2B_MSIL1C_20190828T112119_N0208_R037_T29TPE_20190828T133720.SAFE: 100%|█| 858M/858M [01:23<00:00, 10.2MB/s\n"
     ]
    },
    {
     "name": "stdout",
     "output_type": "stream",
     "text": [
      "File S2B_MSIL1C_20190828T112119_N0208_R037_T29TPE_20190828T133720.SAFE.zip already exists. Skipping download.\n",
      "No images found for date 2019-08-30\n",
      "No images found for date 2019-08-31\n"
     ]
    },
    {
     "name": "stderr",
     "output_type": "stream",
     "text": [
      "Downloading S2A_MSIL1C_20190902T112111_N0208_R037_T29TPE_20190902T132637.SAFE: 100%|█| 868M/868M [01:40<00:00, 8.66MB/s\n"
     ]
    },
    {
     "name": "stdout",
     "output_type": "stream",
     "text": [
      "File S2A_MSIL1C_20190902T112111_N0208_R037_T29TPE_20190902T132637.SAFE.zip already exists. Skipping download.\n",
      "No images found for date 2019-09-04\n",
      "No images found for date 2019-09-05\n",
      "No images found for date 2019-09-06\n"
     ]
    },
    {
     "name": "stderr",
     "output_type": "stream",
     "text": [
      "Downloading S2B_MSIL1C_20190907T112119_N0208_R037_T29TPE_20190907T140737.SAFE: 100%|█| 867M/867M [01:24<00:00, 10.2MB/s\n"
     ]
    },
    {
     "name": "stdout",
     "output_type": "stream",
     "text": [
      "File S2B_MSIL1C_20190907T112119_N0208_R037_T29TPE_20190907T140737.SAFE.zip already exists. Skipping download.\n",
      "No images found for date 2019-09-09\n",
      "No images found for date 2019-09-10\n",
      "No images found for date 2019-09-11\n"
     ]
    },
    {
     "name": "stderr",
     "output_type": "stream",
     "text": [
      "Downloading S2A_MSIL1C_20190912T112111_N0208_R037_T29TPE_20190912T114646.SAFE: 100%|█| 863M/863M [01:23<00:00, 10.3MB/s\n",
      "Downloading S2B_MSIL1C_20190917T112119_N0208_R037_T29TPE_20190917T132014.SAFE: 100%|█| 857M/857M [01:26<00:00, 9.89MB/s\n"
     ]
    },
    {
     "name": "stdout",
     "output_type": "stream",
     "text": [
      "File S2B_MSIL1C_20190917T112119_N0208_R037_T29TPE_20190917T132014.SAFE.zip already exists. Skipping download.\n",
      "No images found for date 2019-09-19\n"
     ]
    },
    {
     "name": "stderr",
     "output_type": "stream",
     "text": [
      "Downloading S2A_MSIL1C_20190922T112111_N0208_R037_T29TPE_20190922T115106.SAFE: 100%|█| 796M/796M [01:22<00:00, 9.66MB/s\n"
     ]
    },
    {
     "name": "stdout",
     "output_type": "stream",
     "text": [
      "No images found for date 2019-09-25\n",
      "No images found for date 2019-09-26\n"
     ]
    },
    {
     "name": "stderr",
     "output_type": "stream",
     "text": [
      "Downloading S2B_MSIL1C_20190927T112119_N0208_R037_T29TPE_20190927T132159.SAFE: 100%|█| 871M/871M [01:26<00:00, 10.0MB/s\n"
     ]
    },
    {
     "name": "stdout",
     "output_type": "stream",
     "text": [
      "File S2B_MSIL1C_20190927T112119_N0208_R037_T29TPE_20190927T132159.SAFE.zip already exists. Skipping download.\n",
      "No images found for date 2019-09-29\n",
      "No images found for date 2019-09-30\n"
     ]
    },
    {
     "name": "stderr",
     "output_type": "stream",
     "text": [
      "Downloading S2A_MSIL1C_20191002T112121_N0208_R037_T29TPE_20191002T114637.SAFE: 100%|█| 858M/858M [01:25<00:00, 10.1MB/s\n"
     ]
    },
    {
     "name": "stdout",
     "output_type": "stream",
     "text": [
      "File S2A_MSIL1C_20191002T112121_N0208_R037_T29TPE_20191002T114637.SAFE.zip already exists. Skipping download.\n",
      "No images found for date 2019-10-04\n",
      "No images found for date 2019-10-05\n",
      "No images found for date 2019-10-06\n"
     ]
    },
    {
     "name": "stderr",
     "output_type": "stream",
     "text": [
      "Downloading S2B_MSIL1C_20191007T112119_N0208_R037_T29TPE_20191007T140832.SAFE: 100%|█| 832M/832M [01:22<00:00, 10.1MB/s\n"
     ]
    },
    {
     "name": "stdout",
     "output_type": "stream",
     "text": [
      "File S2B_MSIL1C_20191007T112119_N0208_R037_T29TPE_20191007T140832.SAFE.zip already exists. Skipping download.\n",
      "No images found for date 2019-10-09\n",
      "No images found for date 2019-10-10\n",
      "No images found for date 2019-10-20\n",
      "No images found for date 2019-10-21\n"
     ]
    },
    {
     "name": "stderr",
     "output_type": "stream",
     "text": [
      "Downloading S2A_MSIL1C_20191022T112121_N0208_R037_T29TPE_20191022T115753.SAFE: 100%|█| 854M/854M [01:26<00:00, 9.86MB/s\n"
     ]
    },
    {
     "name": "stdout",
     "output_type": "stream",
     "text": [
      "No images found for date 2019-10-24\n",
      "No images found for date 2019-10-25\n",
      "No images found for date 2019-10-26\n",
      "No images found for date 2019-11-08\n",
      "No images found for date 2019-11-13\n",
      "No images found for date 2019-11-14\n",
      "No images found for date 2019-11-15\n",
      "No images found for date 2019-11-18\n"
     ]
    },
    {
     "name": "stderr",
     "output_type": "stream",
     "text": [
      "Downloading S2A_MSIL1C_20191201T112431_N0208_R037_T29TPE_20191201T115421.SAFE: 100%|█| 700M/700M [01:13<00:00, 9.51MB/s\n"
     ]
    },
    {
     "name": "stdout",
     "output_type": "stream",
     "text": [
      "No images found for date 2019-12-03\n",
      "No images found for date 2019-12-04\n",
      "No images found for date 2019-12-05\n"
     ]
    },
    {
     "name": "stderr",
     "output_type": "stream",
     "text": [
      "Downloading S2B_MSIL1C_20191206T112339_N0208_R037_T29TPE_20191206T122809.SAFE: 100%|█| 832M/832M [01:25<00:00, 9.67MB/s\n",
      "Downloading S2A_MSIL1C_20191211T112451_N0208_R037_T29TPE_20191211T120134.SAFE: 100%|█| 844M/844M [01:21<00:00, 10.3MB/s\n",
      "Downloading S2B_MSIL1C_20191216T112359_N0208_R037_T29TPE_20191216T115720.SAFE: 100%|█| 621M/621M [01:04<00:00, 9.61MB/s\n",
      "Downloading S2B_MSIL1C_20191226T112359_N0208_R037_T29TPE_20191226T115227.SAFE: 100%|█| 833M/833M [01:21<00:00, 10.2MB/s\n"
     ]
    },
    {
     "name": "stdout",
     "output_type": "stream",
     "text": [
      "No images found for date 2019-12-29\n",
      "No images found for date 2019-12-30\n"
     ]
    },
    {
     "name": "stderr",
     "output_type": "stream",
     "text": [
      "Downloading S2A_MSIL1C_20191231T112451_N0208_R037_T29TPE_20191231T115143.SAFE: 100%|█| 837M/837M [01:39<00:00, 8.44MB/s\n"
     ]
    },
    {
     "name": "stdout",
     "output_type": "stream",
     "text": [
      "File S2A_MSIL1C_20191231T112451_N0208_R037_T29TPE_20191231T115143.SAFE.zip already exists. Skipping download.\n",
      "No images found for date 2020-01-02\n",
      "No images found for date 2020-01-04\n"
     ]
    },
    {
     "name": "stderr",
     "output_type": "stream",
     "text": [
      "Downloading S2B_MSIL1C_20200105T112349_N0208_R037_T29TPE_20200105T115726.SAFE: 100%|█| 844M/844M [01:26<00:00, 9.81MB/s\n"
     ]
    },
    {
     "name": "stdout",
     "output_type": "stream",
     "text": [
      "File S2B_MSIL1C_20200105T112349_N0208_R037_T29TPE_20200105T115726.SAFE.zip already exists. Skipping download.\n",
      "No images found for date 2020-01-07\n",
      "No images found for date 2020-01-08\n"
     ]
    },
    {
     "name": "stderr",
     "output_type": "stream",
     "text": [
      "Downloading S2A_MSIL1C_20200110T112431_N0208_R037_T29TPE_20200110T115639.SAFE: 100%|█| 842M/842M [01:31<00:00, 9.16MB/s\n"
     ]
    },
    {
     "name": "stdout",
     "output_type": "stream",
     "text": [
      "File S2A_MSIL1C_20200110T112431_N0208_R037_T29TPE_20200110T115639.SAFE.zip already exists. Skipping download.\n",
      "No images found for date 2020-01-12\n",
      "No images found for date 2020-01-13\n",
      "No images found for date 2020-01-19\n"
     ]
    },
    {
     "name": "stderr",
     "output_type": "stream",
     "text": [
      "Downloading S2A_MSIL1C_20200120T112401_N0208_R037_T29TPE_20200120T115522.SAFE: 100%|█| 836M/836M [01:55<00:00, 7.27MB/s\n",
      "Downloading S2B_MSIL1C_20200125T112239_N0208_R037_T29TPE_20200125T114829.SAFE: 100%|█| 741M/741M [03:42<00:00, 3.33MB/s\n",
      "Downloading S2B_MSIL1C_20200204T112149_N0209_R037_T29TPE_20200208T030421.SAFE: 100%|█| 843M/843M [03:25<00:00, 4.10MB/s\n"
     ]
    },
    {
     "name": "stdout",
     "output_type": "stream",
     "text": [
      "No images found for date 2020-02-06\n",
      "No images found for date 2020-02-07\n"
     ]
    },
    {
     "name": "stderr",
     "output_type": "stream",
     "text": [
      "Downloading S2A_MSIL1C_20200209T112221_N0209_R037_T29TPE_20200209T115459.SAFE: 100%|█| 747M/747M [02:42<00:00, 4.60MB/s\n"
     ]
    },
    {
     "name": "stdout",
     "output_type": "stream",
     "text": [
      "No images found for date 2020-02-11\n"
     ]
    },
    {
     "name": "stderr",
     "output_type": "stream",
     "text": [
      "Downloading S2B_MSIL1C_20200214T112109_N0209_R037_T29TPE_20200214T114706.SAFE: 100%|█| 837M/837M [02:18<00:00, 6.04MB/s\n"
     ]
    },
    {
     "name": "stdout",
     "output_type": "stream",
     "text": [
      "File S2B_MSIL1C_20200214T112109_N0209_R037_T29TPE_20200214T114706.SAFE.zip already exists. Skipping download.\n",
      "No images found for date 2020-02-18\n"
     ]
    },
    {
     "name": "stderr",
     "output_type": "stream",
     "text": [
      "Downloading S2A_MSIL1C_20200219T112111_N0209_R037_T29TPE_20200219T120204.SAFE: 100%|█| 835M/835M [03:37<00:00, 3.83MB/s\n"
     ]
    },
    {
     "name": "stdout",
     "output_type": "stream",
     "text": [
      "File S2A_MSIL1C_20200219T112111_N0209_R037_T29TPE_20200219T120204.SAFE.zip already exists. Skipping download.\n",
      "No images found for date 2020-02-21\n",
      "No images found for date 2020-02-22\n",
      "No images found for date 2020-02-23\n"
     ]
    },
    {
     "name": "stderr",
     "output_type": "stream",
     "text": [
      "Downloading S2B_MSIL1C_20200224T112109_N0209_R037_T29TPE_20200224T124010.SAFE: 100%|█| 852M/852M [02:08<00:00, 6.65MB/s\n"
     ]
    },
    {
     "name": "stdout",
     "output_type": "stream",
     "text": [
      "No images found for date 2020-02-26\n",
      "No images found for date 2020-02-27\n",
      "No images found for date 2020-02-28\n",
      "No images found for date 2020-03-02\n"
     ]
    },
    {
     "name": "stderr",
     "output_type": "stream",
     "text": [
      "Downloading S2B_MSIL1C_20200305T112109_N0209_R037_T29TPE_20200305T132224.SAFE: 100%|█| 822M/822M [01:37<00:00, 8.45MB/s\n"
     ]
    },
    {
     "name": "stdout",
     "output_type": "stream",
     "text": [
      "No images found for date 2020-03-07\n",
      "No images found for date 2020-03-09\n"
     ]
    },
    {
     "name": "stderr",
     "output_type": "stream",
     "text": [
      "Downloading S2A_MSIL1C_20200310T112111_N0209_R037_T29TPE_20200310T115432.SAFE: 100%|█| 842M/842M [02:24<00:00, 5.84MB/s\n"
     ]
    },
    {
     "name": "stdout",
     "output_type": "stream",
     "text": [
      "File S2A_MSIL1C_20200310T112111_N0209_R037_T29TPE_20200310T115432.SAFE.zip already exists. Skipping download.\n",
      "No images found for date 2020-03-12\n",
      "No images found for date 2020-03-13\n",
      "No images found for date 2020-03-14\n"
     ]
    },
    {
     "name": "stderr",
     "output_type": "stream",
     "text": [
      "Downloading S2B_MSIL1C_20200315T112109_N0209_R037_T29TPE_20200315T132410.SAFE: 100%|█| 853M/853M [03:20<00:00, 4.26MB/s\n"
     ]
    },
    {
     "name": "stdout",
     "output_type": "stream",
     "text": [
      "No images found for date 2020-03-17\n",
      "No images found for date 2020-03-24\n"
     ]
    },
    {
     "name": "stderr",
     "output_type": "stream",
     "text": [
      "Downloading S2B_MSIL1C_20200325T112109_N0209_R037_T29TPE_20200325T142047.SAFE: 100%|█| 850M/850M [02:12<00:00, 6.43MB/s\n"
     ]
    },
    {
     "name": "stdout",
     "output_type": "stream",
     "text": [
      "File S2B_MSIL1C_20200325T112109_N0209_R037_T29TPE_20200325T142047.SAFE.zip already exists. Skipping download.\n",
      "No images found for date 2020-03-27\n",
      "No images found for date 2020-03-28\n",
      "No images found for date 2020-03-29\n",
      "No images found for date 2020-04-03\n",
      "No images found for date 2020-04-18\n",
      "No images found for date 2020-04-22\n"
     ]
    },
    {
     "name": "stderr",
     "output_type": "stream",
     "text": [
      "Downloading S2B_MSIL1C_20200424T112109_N0209_R037_T29TPE_20200424T123554.SAFE: 100%|█| 806M/806M [02:08<00:00, 6.25MB/s\n"
     ]
    },
    {
     "name": "stdout",
     "output_type": "stream",
     "text": [
      "No images found for date 2020-05-02\n",
      "No images found for date 2020-05-03\n",
      "No images found for date 2020-05-06\n",
      "No images found for date 2020-05-16\n",
      "No images found for date 2020-05-17\n",
      "No images found for date 2020-05-18\n"
     ]
    },
    {
     "name": "stderr",
     "output_type": "stream",
     "text": [
      "Downloading S2A_MSIL1C_20200519T112121_N0209_R037_T29TPE_20200519T132604.SAFE: 100%|█| 830M/830M [02:16<00:00, 6.08MB/s\n"
     ]
    },
    {
     "name": "stdout",
     "output_type": "stream",
     "text": [
      "File S2A_MSIL1C_20200519T112121_N0209_R037_T29TPE_20200519T132604.SAFE.zip already exists. Skipping download.\n",
      "No images found for date 2020-05-21\n",
      "No images found for date 2020-05-22\n",
      "No images found for date 2020-05-23\n"
     ]
    },
    {
     "name": "stderr",
     "output_type": "stream",
     "text": [
      "Downloading S2B_MSIL1C_20200524T112119_N0209_R037_T29TPE_20200524T123106.SAFE: 100%|█| 845M/845M [03:12<00:00, 4.38MB/s\n"
     ]
    },
    {
     "name": "stdout",
     "output_type": "stream",
     "text": [
      "File S2B_MSIL1C_20200524T112119_N0209_R037_T29TPE_20200524T123106.SAFE.zip already exists. Skipping download.\n",
      "No images found for date 2020-05-26\n",
      "No images found for date 2020-05-27\n",
      "No images found for date 2020-05-28\n"
     ]
    },
    {
     "name": "stderr",
     "output_type": "stream",
     "text": [
      "Downloading S2A_MSIL1C_20200529T112121_N0209_R037_T29TPE_20200529T114450.SAFE: 100%|█| 845M/845M [02:16<00:00, 6.17MB/s\n"
     ]
    },
    {
     "name": "stdout",
     "output_type": "stream",
     "text": [
      "File S2A_MSIL1C_20200529T112121_N0209_R037_T29TPE_20200529T114450.SAFE.zip already exists. Skipping download.\n",
      "No images found for date 2020-06-05\n",
      "No images found for date 2020-06-06\n"
     ]
    },
    {
     "name": "stderr",
     "output_type": "stream",
     "text": [
      "Downloading S2A_MSIL1C_20200608T112121_N0209_R037_T29TPE_20200608T115350.SAFE: 100%|█| 862M/862M [02:12<00:00, 6.51MB/s\n"
     ]
    },
    {
     "name": "stdout",
     "output_type": "stream",
     "text": [
      "File S2A_MSIL1C_20200608T112121_N0209_R037_T29TPE_20200608T115350.SAFE.zip already exists. Skipping download.\n",
      "No images found for date 2020-06-10\n",
      "No images found for date 2020-06-17\n"
     ]
    },
    {
     "name": "stderr",
     "output_type": "stream",
     "text": [
      "Downloading S2A_MSIL1C_20200618T112121_N0209_R037_T29TPE_20200618T132412.SAFE: 100%|█| 868M/868M [02:27<00:00, 5.89MB/s\n"
     ]
    },
    {
     "name": "stdout",
     "output_type": "stream",
     "text": [
      "File S2A_MSIL1C_20200618T112121_N0209_R037_T29TPE_20200618T132412.SAFE.zip already exists. Skipping download.\n",
      "No images found for date 2020-06-20\n",
      "No images found for date 2020-06-21\n",
      "No images found for date 2020-06-22\n"
     ]
    },
    {
     "name": "stderr",
     "output_type": "stream",
     "text": [
      "Downloading S2B_MSIL1C_20200623T112119_N0209_R037_T29TPE_20200623T132800.SAFE: 100%|█| 859M/859M [05:12<00:00, 2.74MB/s\n"
     ]
    },
    {
     "name": "stdout",
     "output_type": "stream",
     "text": [
      "File S2B_MSIL1C_20200623T112119_N0209_R037_T29TPE_20200623T132800.SAFE.zip already exists. Skipping download.\n",
      "No images found for date 2020-06-25\n",
      "No images found for date 2020-06-26\n",
      "No images found for date 2020-06-27\n"
     ]
    },
    {
     "name": "stderr",
     "output_type": "stream",
     "text": [
      "Downloading S2A_MSIL1C_20200628T112121_N0209_R037_T29TPE_20200628T114419.SAFE: 100%|█| 859M/859M [08:28<00:00, 1.69MB/s\n"
     ]
    },
    {
     "name": "stdout",
     "output_type": "stream",
     "text": [
      "No images found for date 2020-06-30\n",
      "No images found for date 2020-07-01\n"
     ]
    },
    {
     "name": "stderr",
     "output_type": "stream",
     "text": [
      "Downloading S2B_MSIL1C_20200703T112119_N0209_R037_T29TPE_20200703T132109.SAFE: 100%|█| 870M/870M [19:38<00:00, 738kB/s]\n"
     ]
    },
    {
     "name": "stdout",
     "output_type": "stream",
     "text": [
      "File S2B_MSIL1C_20200703T112119_N0209_R037_T29TPE_20200703T132109.SAFE.zip already exists. Skipping download.\n",
      "No images found for date 2020-07-05\n",
      "No images found for date 2020-07-06\n",
      "No images found for date 2020-07-07\n"
     ]
    },
    {
     "name": "stderr",
     "output_type": "stream",
     "text": [
      "Downloading S2A_MSIL1C_20200708T112121_N0209_R037_T29TPE_20200708T114940.SAFE: 100%|█| 860M/860M [12:18<00:00, 1.17MB/s\n"
     ]
    },
    {
     "name": "stdout",
     "output_type": "stream",
     "text": [
      "No images found for date 2020-07-10\n",
      "No images found for date 2020-07-11\n",
      "No images found for date 2020-07-12\n"
     ]
    },
    {
     "name": "stderr",
     "output_type": "stream",
     "text": [
      "Downloading S2B_MSIL1C_20200713T112119_N0209_R037_T29TPE_20200713T123849.SAFE: 100%|█| 864M/864M [01:24<00:00, 10.3MB/s\n"
     ]
    },
    {
     "name": "stdout",
     "output_type": "stream",
     "text": [
      "File S2B_MSIL1C_20200713T112119_N0209_R037_T29TPE_20200713T123849.SAFE.zip already exists. Skipping download.\n",
      "No images found for date 2020-07-15\n",
      "No images found for date 2020-07-16\n",
      "No images found for date 2020-07-17\n"
     ]
    },
    {
     "name": "stderr",
     "output_type": "stream",
     "text": [
      "Downloading S2A_MSIL1C_20200718T112121_N0209_R037_T29TPE_20200718T115054.SAFE: 100%|█| 862M/862M [01:25<00:00, 10.1MB/s\n"
     ]
    },
    {
     "name": "stdout",
     "output_type": "stream",
     "text": [
      "File S2A_MSIL1C_20200718T112121_N0209_R037_T29TPE_20200718T115054.SAFE.zip already exists. Skipping download.\n",
      "No images found for date 2020-07-20\n",
      "No images found for date 2020-07-22\n"
     ]
    },
    {
     "name": "stderr",
     "output_type": "stream",
     "text": [
      "Downloading S2B_MSIL1C_20200723T112119_N0209_R037_T29TPE_20200723T123150.SAFE: 100%|█| 866M/866M [02:43<00:00, 5.29MB/s\n"
     ]
    },
    {
     "name": "stdout",
     "output_type": "stream",
     "text": [
      "File S2B_MSIL1C_20200723T112119_N0209_R037_T29TPE_20200723T123150.SAFE.zip already exists. Skipping download.\n",
      "No images found for date 2020-07-25\n",
      "No images found for date 2020-07-26\n",
      "No images found for date 2020-07-27\n"
     ]
    },
    {
     "name": "stderr",
     "output_type": "stream",
     "text": [
      "Downloading S2A_MSIL1C_20200728T112121_N0209_R037_T29TPE_20200728T114429.SAFE: 100%|█| 854M/854M [02:43<00:00, 5.24MB/s\n"
     ]
    },
    {
     "name": "stdout",
     "output_type": "stream",
     "text": [
      "File S2A_MSIL1C_20200728T112121_N0209_R037_T29TPE_20200728T114429.SAFE.zip already exists. Skipping download.\n",
      "No images found for date 2020-07-30\n",
      "No images found for date 2020-07-31\n",
      "No images found for date 2020-08-01\n"
     ]
    },
    {
     "name": "stderr",
     "output_type": "stream",
     "text": [
      "Downloading S2B_MSIL1C_20200802T112119_N0209_R037_T29TPE_20200802T123255.SAFE: 100%|█| 870M/870M [04:26<00:00, 3.26MB/s\n"
     ]
    },
    {
     "name": "stdout",
     "output_type": "stream",
     "text": [
      "File S2B_MSIL1C_20200802T112119_N0209_R037_T29TPE_20200802T123255.SAFE.zip already exists. Skipping download.\n",
      "No images found for date 2020-08-04\n",
      "No images found for date 2020-08-05\n",
      "No images found for date 2020-08-06\n"
     ]
    },
    {
     "name": "stderr",
     "output_type": "stream",
     "text": [
      "Downloading S2A_MSIL1C_20200807T112121_N0209_R037_T29TPE_20200807T114126.SAFE: 100%|█| 855M/855M [01:24<00:00, 10.1MB/s\n"
     ]
    },
    {
     "name": "stdout",
     "output_type": "stream",
     "text": [
      "File S2A_MSIL1C_20200807T112121_N0209_R037_T29TPE_20200807T114126.SAFE.zip already exists. Skipping download.\n",
      "No images found for date 2020-08-09\n",
      "No images found for date 2020-08-10\n"
     ]
    },
    {
     "name": "stderr",
     "output_type": "stream",
     "text": [
      "Downloading S2B_MSIL1C_20200812T112119_N0209_R037_T29TPE_20200812T123206.SAFE: 100%|█| 862M/862M [02:01<00:00, 7.11MB/s\n"
     ]
    },
    {
     "name": "stdout",
     "output_type": "stream",
     "text": [
      "No images found for date 2020-08-14\n",
      "No images found for date 2020-08-15\n",
      "No images found for date 2020-08-16\n"
     ]
    },
    {
     "name": "stderr",
     "output_type": "stream",
     "text": [
      "Downloading S2A_MSIL1C_20200817T112121_N0209_R037_T29TPE_20200817T114123.SAFE: 100%|█| 836M/836M [01:24<00:00, 9.91MB/s\n"
     ]
    },
    {
     "name": "stdout",
     "output_type": "stream",
     "text": [
      "File S2A_MSIL1C_20200817T112121_N0209_R037_T29TPE_20200817T114123.SAFE.zip already exists. Skipping download.\n",
      "No images found for date 2020-08-19\n"
     ]
    },
    {
     "name": "stderr",
     "output_type": "stream",
     "text": [
      "Downloading S2B_MSIL1C_20200822T112119_N0209_R037_T29TPE_20200823T142604.SAFE: 100%|█| 872M/872M [01:24<00:00, 10.3MB/s\n"
     ]
    },
    {
     "name": "stdout",
     "output_type": "stream",
     "text": [
      "File S2B_MSIL1C_20200822T112119_N0209_R037_T29TPE_20200823T142604.SAFE.zip already exists. Skipping download.\n",
      "No images found for date 2020-08-24\n",
      "No images found for date 2020-08-25\n",
      "No images found for date 2020-08-26\n"
     ]
    },
    {
     "name": "stderr",
     "output_type": "stream",
     "text": [
      "Downloading S2A_MSIL1C_20200827T112121_N0209_R037_T29TPE_20200827T133318.SAFE: 100%|█| 870M/870M [01:26<00:00, 10.1MB/s\n"
     ]
    },
    {
     "name": "stdout",
     "output_type": "stream",
     "text": [
      "File S2A_MSIL1C_20200827T112121_N0209_R037_T29TPE_20200827T133318.SAFE.zip already exists. Skipping download.\n",
      "No images found for date 2020-08-29\n",
      "No images found for date 2020-08-30\n"
     ]
    },
    {
     "name": "stderr",
     "output_type": "stream",
     "text": [
      "Downloading S2B_MSIL1C_20200901T112119_N0209_R037_T29TPE_20200901T133532.SAFE: 100%|█| 867M/867M [01:25<00:00, 10.1MB/s\n"
     ]
    },
    {
     "name": "stdout",
     "output_type": "stream",
     "text": [
      "File S2B_MSIL1C_20200901T112119_N0209_R037_T29TPE_20200901T133532.SAFE.zip already exists. Skipping download.\n",
      "No images found for date 2020-09-03\n",
      "No images found for date 2020-09-04\n",
      "No images found for date 2020-09-05\n"
     ]
    },
    {
     "name": "stderr",
     "output_type": "stream",
     "text": [
      "Downloading S2A_MSIL1C_20200906T112121_N0209_R037_T29TPE_20200906T133410.SAFE: 100%|█| 873M/873M [01:25<00:00, 10.2MB/s\n"
     ]
    },
    {
     "name": "stdout",
     "output_type": "stream",
     "text": [
      "File S2A_MSIL1C_20200906T112121_N0209_R037_T29TPE_20200906T133410.SAFE.zip already exists. Skipping download.\n",
      "No images found for date 2020-09-08\n",
      "No images found for date 2020-09-09\n",
      "No images found for date 2020-09-10\n"
     ]
    },
    {
     "name": "stderr",
     "output_type": "stream",
     "text": [
      "Downloading S2B_MSIL1C_20200911T112119_N0209_R037_T29TPE_20200911T123551.SAFE: 100%|█| 844M/844M [01:33<00:00, 9.05MB/s\n",
      "Downloading S2B_MSIL1C_20200921T112119_N0209_R037_T29TPE_20200921T123213.SAFE: 100%|█| 857M/857M [01:28<00:00, 9.64MB/s\n"
     ]
    },
    {
     "name": "stdout",
     "output_type": "stream",
     "text": [
      "No images found for date 2020-09-24\n",
      "No images found for date 2020-09-25\n"
     ]
    },
    {
     "name": "stderr",
     "output_type": "stream",
     "text": [
      "Downloading S2A_MSIL1C_20200926T112121_N0209_R037_T29TPE_20200926T133546.SAFE: 100%|█| 866M/866M [01:25<00:00, 10.1MB/s\n"
     ]
    },
    {
     "name": "stdout",
     "output_type": "stream",
     "text": [
      "File S2A_MSIL1C_20200926T112121_N0209_R037_T29TPE_20200926T133546.SAFE.zip already exists. Skipping download.\n",
      "No images found for date 2020-09-28\n",
      "No images found for date 2020-09-29\n",
      "No images found for date 2020-09-30\n"
     ]
    },
    {
     "name": "stderr",
     "output_type": "stream",
     "text": [
      "Downloading S2A_MSIL1C_20201006T112121_N0209_R037_T29TPE_20201006T133530.SAFE: 100%|█| 868M/868M [01:32<00:00, 9.38MB/s\n"
     ]
    },
    {
     "name": "stdout",
     "output_type": "stream",
     "text": [
      "File S2A_MSIL1C_20201006T112121_N0209_R037_T29TPE_20201006T133530.SAFE.zip already exists. Skipping download.\n",
      "No images found for date 2020-10-08\n",
      "No images found for date 2020-10-09\n",
      "No images found for date 2020-10-10\n"
     ]
    },
    {
     "name": "stderr",
     "output_type": "stream",
     "text": [
      "Downloading S2B_MSIL1C_20201011T112119_N0209_R037_T29TPE_20201011T122752.SAFE: 100%|█| 870M/870M [01:41<00:00, 8.57MB/s\n"
     ]
    },
    {
     "name": "stdout",
     "output_type": "stream",
     "text": [
      "File S2B_MSIL1C_20201011T112119_N0209_R037_T29TPE_20201011T122752.SAFE.zip already exists. Skipping download.\n",
      "No images found for date 2020-10-13\n",
      "No images found for date 2020-10-14\n",
      "No images found for date 2020-10-15\n"
     ]
    },
    {
     "name": "stderr",
     "output_type": "stream",
     "text": [
      "Downloading S2A_MSIL1C_20201016T112121_N0209_R037_T29TPE_20201016T133149.SAFE: 100%|█| 861M/861M [01:24<00:00, 10.2MB/s\n"
     ]
    },
    {
     "name": "stdout",
     "output_type": "stream",
     "text": [
      "No images found for date 2020-10-18\n",
      "No images found for date 2020-10-30\n"
     ]
    },
    {
     "name": "stderr",
     "output_type": "stream",
     "text": [
      "Downloading S2B_MSIL1C_20201110T112309_N0209_R037_T29TPE_20201110T122800.SAFE: 100%|█| 854M/854M [01:22<00:00, 10.3MB/s\n"
     ]
    },
    {
     "name": "stdout",
     "output_type": "stream",
     "text": [
      "No images found for date 2020-11-18\n",
      "No images found for date 2020-11-19\n"
     ]
    },
    {
     "name": "stderr",
     "output_type": "stream",
     "text": [
      "Downloading S2B_MSIL1C_20201120T112359_N0209_R037_T29TPE_20201120T122905.SAFE: 100%|█| 853M/853M [01:24<00:00, 10.1MB/s\n"
     ]
    },
    {
     "name": "stdout",
     "output_type": "stream",
     "text": [
      "File S2B_MSIL1C_20201120T112359_N0209_R037_T29TPE_20201120T122905.SAFE.zip already exists. Skipping download.\n",
      "No images found for date 2020-11-22\n",
      "No images found for date 2020-11-23\n"
     ]
    },
    {
     "name": "stderr",
     "output_type": "stream",
     "text": [
      "Downloading S2B_MSIL1C_20201130T112429_N0209_R037_T29TPE_20201130T122309.SAFE: 100%|█| 735M/735M [01:21<00:00, 8.98MB/s\n"
     ]
    },
    {
     "name": "stdout",
     "output_type": "stream",
     "text": [
      "No images found for date 2020-12-03\n",
      "No images found for date 2020-12-09\n",
      "No images found for date 2020-12-17\n",
      "No images found for date 2020-12-24\n",
      "No images found for date 2020-12-25\n",
      "No images found for date 2020-12-26\n",
      "No images found for date 2020-12-27\n",
      "No images found for date 2020-12-29\n"
     ]
    },
    {
     "name": "stderr",
     "output_type": "stream",
     "text": [
      "Downloading S2B_MSIL1C_20201230T112359_N0209_R037_T29TPE_20201230T122650.SAFE: 100%|█| 847M/847M [01:23<00:00, 10.2MB/s\n"
     ]
    },
    {
     "name": "stdout",
     "output_type": "stream",
     "text": [
      "No images found for date 2021-01-02\n",
      "No images found for date 2021-01-03\n"
     ]
    },
    {
     "name": "stderr",
     "output_type": "stream",
     "text": [
      "Downloading S2A_MSIL1C_20210104T112451_N0209_R037_T29TPE_20210104T133234.SAFE: 100%|█| 823M/823M [01:19<00:00, 10.3MB/s\n"
     ]
    },
    {
     "name": "stdout",
     "output_type": "stream",
     "text": [
      "File S2A_MSIL1C_20210104T112451_N0209_R037_T29TPE_20210104T133234.SAFE.zip already exists. Skipping download.\n",
      "No images found for date 2021-01-06\n",
      "No images found for date 2021-01-07\n"
     ]
    },
    {
     "name": "stderr",
     "output_type": "stream",
     "text": [
      "Downloading S2B_MSIL1C_20210109T112339_N0209_R037_T29TPE_20210109T122952.SAFE: 100%|█| 681M/681M [01:12<00:00, 9.39MB/s\n"
     ]
    },
    {
     "name": "stdout",
     "output_type": "stream",
     "text": [
      "No images found for date 2021-01-11\n",
      "No images found for date 2021-01-12\n",
      "No images found for date 2021-01-13\n"
     ]
    },
    {
     "name": "stderr",
     "output_type": "stream",
     "text": [
      "Downloading S2A_MSIL1C_20210114T112431_N0209_R037_T29TPE_20210114T134057.SAFE: 100%|█| 854M/854M [01:26<00:00, 9.93MB/s\n"
     ]
    },
    {
     "name": "stdout",
     "output_type": "stream",
     "text": [
      "File S2A_MSIL1C_20210114T112431_N0209_R037_T29TPE_20210114T134057.SAFE.zip already exists. Skipping download.\n",
      "No images found for date 2021-01-16\n",
      "No images found for date 2021-01-17\n",
      "No images found for date 2021-01-18\n",
      "No images found for date 2021-02-15\n",
      "No images found for date 2021-02-22\n"
     ]
    },
    {
     "name": "stderr",
     "output_type": "stream",
     "text": [
      "Downloading S2A_MSIL1C_20210223T112111_N0209_R037_T29TPE_20210223T133233.SAFE: 100%|█| 829M/829M [01:21<00:00, 10.2MB/s\n",
      "Downloading S2B_MSIL1C_20210228T112109_N0209_R037_T29TPE_20210228T133316.SAFE: 100%|█| 837M/837M [01:21<00:00, 10.2MB/s\n"
     ]
    },
    {
     "name": "stdout",
     "output_type": "stream",
     "text": [
      "No images found for date 2021-03-03\n"
     ]
    },
    {
     "name": "stderr",
     "output_type": "stream",
     "text": [
      "Downloading S2A_MSIL1C_20210305T112111_N0209_R037_T29TPE_20210305T133614.SAFE: 100%|█| 750M/750M [01:13<00:00, 10.1MB/s\n"
     ]
    },
    {
     "name": "stdout",
     "output_type": "stream",
     "text": [
      "No images found for date 2021-03-07\n",
      "No images found for date 2021-03-09\n"
     ]
    },
    {
     "name": "stderr",
     "output_type": "stream",
     "text": [
      "Downloading S2B_MSIL1C_20210310T112119_N0209_R037_T29TPE_20210310T135531.SAFE: 100%|█| 846M/846M [01:23<00:00, 10.2MB/s\n"
     ]
    },
    {
     "name": "stdout",
     "output_type": "stream",
     "text": [
      "No images found for date 2021-03-12\n",
      "No images found for date 2021-03-13\n",
      "No images found for date 2021-03-14\n"
     ]
    },
    {
     "name": "stderr",
     "output_type": "stream",
     "text": [
      "Downloading S2A_MSIL1C_20210315T112111_N0209_R037_T29TPE_20210315T133629.SAFE: 100%|█| 853M/853M [01:32<00:00, 9.18MB/s\n"
     ]
    },
    {
     "name": "stdout",
     "output_type": "stream",
     "text": [
      "File S2A_MSIL1C_20210315T112111_N0209_R037_T29TPE_20210315T133629.SAFE.zip already exists. Skipping download.\n",
      "No images found for date 2021-03-17\n",
      "No images found for date 2021-03-18\n"
     ]
    },
    {
     "name": "stderr",
     "output_type": "stream",
     "text": [
      "Downloading S2B_MSIL1C_20210320T112109_N0209_R037_T29TPE_20210320T123052.SAFE: 100%|█| 850M/850M [01:23<00:00, 10.2MB/s\n"
     ]
    },
    {
     "name": "stdout",
     "output_type": "stream",
     "text": [
      "File S2B_MSIL1C_20210320T112109_N0209_R037_T29TPE_20210320T123052.SAFE.zip already exists. Skipping download.\n",
      "No images found for date 2021-03-22\n",
      "No images found for date 2021-03-23\n",
      "No images found for date 2021-03-24\n"
     ]
    },
    {
     "name": "stderr",
     "output_type": "stream",
     "text": [
      "Downloading S2A_MSIL1C_20210325T112111_N0209_R037_T29TPE_20210325T132755.SAFE: 100%|█| 850M/850M [01:22<00:00, 10.3MB/s\n"
     ]
    },
    {
     "name": "stdout",
     "output_type": "stream",
     "text": [
      "File S2A_MSIL1C_20210325T112111_N0209_R037_T29TPE_20210325T132755.SAFE.zip already exists. Skipping download.\n",
      "No images found for date 2021-04-03\n"
     ]
    },
    {
     "name": "stderr",
     "output_type": "stream",
     "text": [
      "Downloading S2A_MSIL1C_20210404T112111_N0300_R037_T29TPE_20210404T133105.SAFE: 100%|█| 850M/850M [01:22<00:00, 10.3MB/s\n"
     ]
    },
    {
     "name": "stdout",
     "output_type": "stream",
     "text": [
      "File S2A_MSIL1C_20210404T112111_N0300_R037_T29TPE_20210404T133105.SAFE.zip already exists. Skipping download.\n",
      "No images found for date 2021-04-06\n",
      "No images found for date 2021-04-07\n",
      "No images found for date 2021-04-17\n",
      "No images found for date 2021-04-18\n"
     ]
    },
    {
     "name": "stderr",
     "output_type": "stream",
     "text": [
      "Downloading S2B_MSIL1C_20210419T112109_N0300_R037_T29TPE_20210419T122653.SAFE: 100%|█| 828M/828M [01:21<00:00, 10.2MB/s\n"
     ]
    },
    {
     "name": "stdout",
     "output_type": "stream",
     "text": [
      "No images found for date 2021-05-02\n",
      "No images found for date 2021-05-03\n"
     ]
    },
    {
     "name": "stderr",
     "output_type": "stream",
     "text": [
      "Downloading S2A_MSIL1C_20210504T112111_N0300_R037_T29TPE_20210504T133114.SAFE: 100%|█| 861M/861M [01:36<00:00, 8.89MB/s\n"
     ]
    },
    {
     "name": "stdout",
     "output_type": "stream",
     "text": [
      "File S2A_MSIL1C_20210504T112111_N0300_R037_T29TPE_20210504T133114.SAFE.zip already exists. Skipping download.\n",
      "No images found for date 2021-05-06\n",
      "No images found for date 2021-05-07\n",
      "No images found for date 2021-05-08\n"
     ]
    },
    {
     "name": "stderr",
     "output_type": "stream",
     "text": [
      "Downloading S2A_MSIL1C_20210514T112111_N0300_R037_T29TPE_20210514T134034.SAFE: 100%|█| 854M/854M [01:29<00:00, 9.58MB/s\n"
     ]
    },
    {
     "name": "stdout",
     "output_type": "stream",
     "text": [
      "File S2A_MSIL1C_20210514T112111_N0300_R037_T29TPE_20210514T134034.SAFE.zip already exists. Skipping download.\n",
      "No images found for date 2021-05-17\n"
     ]
    },
    {
     "name": "stderr",
     "output_type": "stream",
     "text": [
      "Downloading S2B_MSIL1C_20210519T112119_N0300_R037_T29TPE_20210519T133308.SAFE: 100%|█| 848M/848M [01:27<00:00, 9.71MB/s\n"
     ]
    },
    {
     "name": "stdout",
     "output_type": "stream",
     "text": [
      "File S2B_MSIL1C_20210519T112119_N0300_R037_T29TPE_20210519T133308.SAFE.zip already exists. Skipping download.\n",
      "No images found for date 2021-05-21\n",
      "No images found for date 2021-05-23\n"
     ]
    },
    {
     "name": "stderr",
     "output_type": "stream",
     "text": [
      "Downloading S2A_MSIL1C_20210524T112111_N0300_R037_T29TPE_20210524T133636.SAFE: 100%|█| 814M/814M [01:37<00:00, 8.35MB/s\n"
     ]
    },
    {
     "name": "stdout",
     "output_type": "stream",
     "text": [
      "No images found for date 2021-05-28\n"
     ]
    },
    {
     "name": "stderr",
     "output_type": "stream",
     "text": [
      "Downloading S2B_MSIL1C_20210529T112119_N0300_R037_T29TPE_20210529T133831.SAFE: 100%|█| 855M/855M [01:24<00:00, 10.2MB/s\n"
     ]
    },
    {
     "name": "stdout",
     "output_type": "stream",
     "text": [
      "File S2B_MSIL1C_20210529T112119_N0300_R037_T29TPE_20210529T133831.SAFE.zip already exists. Skipping download.\n",
      "No images found for date 2021-05-31\n",
      "No images found for date 2021-06-02\n"
     ]
    },
    {
     "name": "stderr",
     "output_type": "stream",
     "text": [
      "Downloading S2A_MSIL1C_20210603T112111_N0300_R037_T29TPE_20210603T133740.SAFE: 100%|█| 863M/863M [04:21<00:00, 3.30MB/s\n"
     ]
    },
    {
     "name": "stdout",
     "output_type": "stream",
     "text": [
      "No images found for date 2021-06-05\n",
      "No images found for date 2021-06-06\n",
      "No images found for date 2021-06-07\n"
     ]
    },
    {
     "name": "stderr",
     "output_type": "stream",
     "text": [
      "Downloading S2B_MSIL1C_20210608T112119_N0300_R037_T29TPE_20210608T122121.SAFE: 100%|█| 864M/864M [07:50<00:00, 1.84MB/s\n"
     ]
    },
    {
     "name": "stdout",
     "output_type": "stream",
     "text": [
      "File S2B_MSIL1C_20210608T112119_N0300_R037_T29TPE_20210608T122121.SAFE.zip already exists. Skipping download.\n",
      "No images found for date 2021-06-10\n",
      "No images found for date 2021-06-11\n"
     ]
    },
    {
     "name": "stderr",
     "output_type": "stream",
     "text": [
      "Downloading S2A_MSIL1C_20210613T112111_N0300_R037_T29TPE_20210613T133154.SAFE: 100%|█| 854M/854M [01:32<00:00, 9.26MB/s\n"
     ]
    },
    {
     "name": "stdout",
     "output_type": "stream",
     "text": [
      "No images found for date 2021-06-15\n"
     ]
    },
    {
     "name": "stderr",
     "output_type": "stream",
     "text": [
      "Downloading S2A_MSIL1C_20210623T112121_N0300_R037_T29TPE_20210623T133330.SAFE: 100%|█| 875M/875M [01:28<00:00, 9.90MB/s\n"
     ]
    },
    {
     "name": "stdout",
     "output_type": "stream",
     "text": [
      "No images found for date 2021-06-25\n",
      "No images found for date 2021-06-26\n",
      "No images found for date 2021-06-27\n"
     ]
    },
    {
     "name": "stderr",
     "output_type": "stream",
     "text": [
      "Downloading S2B_MSIL1C_20210628T112119_N0300_R037_T29TPE_20210628T133007.SAFE: 100%|█| 866M/866M [01:22<00:00, 10.5MB/s\n"
     ]
    },
    {
     "name": "stdout",
     "output_type": "stream",
     "text": [
      "No images found for date 2021-06-30\n",
      "No images found for date 2021-07-01\n",
      "No images found for date 2021-07-02\n"
     ]
    },
    {
     "name": "stderr",
     "output_type": "stream",
     "text": [
      "Downloading S2A_MSIL1C_20210703T112121_N0301_R037_T29TPE_20210703T133205.SAFE: 100%|█| 878M/878M [01:26<00:00, 10.2MB/s\n"
     ]
    },
    {
     "name": "stdout",
     "output_type": "stream",
     "text": [
      "No images found for date 2021-07-05\n"
     ]
    },
    {
     "name": "stderr",
     "output_type": "stream",
     "text": [
      "Downloading S2B_MSIL1C_20210708T112119_N0301_R037_T29TPE_20210708T123423.SAFE: 100%|█| 863M/863M [01:23<00:00, 10.3MB/s\n"
     ]
    },
    {
     "name": "stdout",
     "output_type": "stream",
     "text": [
      "File S2B_MSIL1C_20210708T112119_N0301_R037_T29TPE_20210708T123423.SAFE.zip already exists. Skipping download.\n",
      "No images found for date 2021-07-10\n",
      "No images found for date 2021-07-12\n"
     ]
    },
    {
     "name": "stderr",
     "output_type": "stream",
     "text": [
      "Downloading S2A_MSIL1C_20210713T112121_N0301_R037_T29TPE_20210713T133315.SAFE: 100%|█| 873M/873M [03:39<00:00, 3.98MB/s\n"
     ]
    },
    {
     "name": "stdout",
     "output_type": "stream",
     "text": [
      "File S2A_MSIL1C_20210713T112121_N0301_R037_T29TPE_20210713T133315.SAFE.zip already exists. Skipping download.\n",
      "No images found for date 2021-07-16\n",
      "No images found for date 2021-07-17\n"
     ]
    },
    {
     "name": "stderr",
     "output_type": "stream",
     "text": [
      "Downloading S2B_MSIL1C_20210718T112119_N0301_R037_T29TPE_20210718T133258.SAFE: 100%|█| 856M/856M [05:29<00:00, 2.60MB/s\n"
     ]
    },
    {
     "name": "stdout",
     "output_type": "stream",
     "text": [
      "File S2B_MSIL1C_20210718T112119_N0301_R037_T29TPE_20210718T133258.SAFE.zip already exists. Skipping download.\n",
      "No images found for date 2021-07-20\n",
      "No images found for date 2021-07-21\n",
      "No images found for date 2021-07-22\n"
     ]
    },
    {
     "name": "stderr",
     "output_type": "stream",
     "text": [
      "Downloading S2A_MSIL1C_20210723T112121_N0301_R037_T29TPE_20210723T133534.SAFE: 100%|█| 830M/830M [01:26<00:00, 9.54MB/s\n"
     ]
    },
    {
     "name": "stdout",
     "output_type": "stream",
     "text": [
      "File S2A_MSIL1C_20210723T112121_N0301_R037_T29TPE_20210723T133534.SAFE.zip already exists. Skipping download.\n",
      "No images found for date 2021-07-26\n",
      "No images found for date 2021-07-27\n"
     ]
    },
    {
     "name": "stderr",
     "output_type": "stream",
     "text": [
      "Downloading S2B_MSIL1C_20210728T112119_N0301_R037_T29TPE_20210728T133740.SAFE: 100%|█| 869M/869M [01:27<00:00, 9.98MB/s\n"
     ]
    },
    {
     "name": "stdout",
     "output_type": "stream",
     "text": [
      "File S2B_MSIL1C_20210728T112119_N0301_R037_T29TPE_20210728T133740.SAFE.zip already exists. Skipping download.\n",
      "No images found for date 2021-07-30\n",
      "No images found for date 2021-07-31\n",
      "No images found for date 2021-08-01\n"
     ]
    },
    {
     "name": "stderr",
     "output_type": "stream",
     "text": [
      "Downloading S2A_MSIL1C_20210802T112121_N0301_R037_T29TPE_20210802T133437.SAFE: 100%|█| 882M/882M [01:26<00:00, 10.2MB/s\n"
     ]
    },
    {
     "name": "stdout",
     "output_type": "stream",
     "text": [
      "No images found for date 2021-08-05\n",
      "No images found for date 2021-08-06\n"
     ]
    },
    {
     "name": "stderr",
     "output_type": "stream",
     "text": [
      "Downloading S2B_MSIL1C_20210807T112119_N0301_R037_T29TPE_20210807T121338.SAFE: 100%|█| 869M/869M [01:25<00:00, 10.2MB/s\n"
     ]
    },
    {
     "name": "stdout",
     "output_type": "stream",
     "text": [
      "File S2B_MSIL1C_20210807T112119_N0301_R037_T29TPE_20210807T121338.SAFE.zip already exists. Skipping download.\n",
      "No images found for date 2021-08-09\n",
      "No images found for date 2021-08-10\n",
      "No images found for date 2021-08-11\n"
     ]
    },
    {
     "name": "stderr",
     "output_type": "stream",
     "text": [
      "Downloading S2A_MSIL1C_20210812T112121_N0301_R037_T29TPE_20210812T133620.SAFE: 100%|█| 865M/865M [01:24<00:00, 10.2MB/s\n"
     ]
    },
    {
     "name": "stdout",
     "output_type": "stream",
     "text": [
      "No images found for date 2021-08-16\n"
     ]
    },
    {
     "name": "stderr",
     "output_type": "stream",
     "text": [
      "Downloading S2B_MSIL1C_20210817T112119_N0301_R037_T29TPE_20210817T121536.SAFE: 100%|█| 872M/872M [01:25<00:00, 10.1MB/s\n"
     ]
    },
    {
     "name": "stdout",
     "output_type": "stream",
     "text": [
      "File S2B_MSIL1C_20210817T112119_N0301_R037_T29TPE_20210817T121536.SAFE.zip already exists. Skipping download.\n",
      "No images found for date 2021-08-19\n",
      "No images found for date 2021-08-20\n",
      "No images found for date 2021-08-21\n"
     ]
    },
    {
     "name": "stderr",
     "output_type": "stream",
     "text": [
      "Downloading S2A_MSIL1C_20210822T112121_N0301_R037_T29TPE_20210822T133353.SAFE: 100%|█| 877M/877M [01:25<00:00, 10.3MB/s\n"
     ]
    },
    {
     "name": "stdout",
     "output_type": "stream",
     "text": [
      "File S2A_MSIL1C_20210822T112121_N0301_R037_T29TPE_20210822T133353.SAFE.zip already exists. Skipping download.\n",
      "No images found for date 2021-08-24\n",
      "No images found for date 2021-08-25\n",
      "No images found for date 2021-08-26\n"
     ]
    },
    {
     "name": "stderr",
     "output_type": "stream",
     "text": [
      "Downloading S2B_MSIL1C_20210827T112109_N0301_R037_T29TPE_20210827T121425.SAFE: 100%|█| 865M/865M [01:24<00:00, 10.3MB/s\n"
     ]
    },
    {
     "name": "stdout",
     "output_type": "stream",
     "text": [
      "File S2B_MSIL1C_20210827T112109_N0301_R037_T29TPE_20210827T121425.SAFE.zip already exists. Skipping download.\n",
      "No images found for date 2021-08-29\n",
      "No images found for date 2021-08-30\n",
      "No images found for date 2021-08-31\n"
     ]
    },
    {
     "name": "stderr",
     "output_type": "stream",
     "text": [
      "Downloading S2A_MSIL1C_20210901T112121_N0301_R037_T29TPE_20210901T133352.SAFE: 100%|█| 787M/787M [01:19<00:00, 9.95MB/s\n"
     ]
    },
    {
     "name": "stdout",
     "output_type": "stream",
     "text": [
      "No images found for date 2021-09-03\n",
      "No images found for date 2021-09-04\n",
      "No images found for date 2021-09-05\n"
     ]
    },
    {
     "name": "stderr",
     "output_type": "stream",
     "text": [
      "Downloading S2B_MSIL1C_20210916T112109_N0301_R037_T29TPE_20210916T151618.SAFE: 100%|█| 861M/861M [01:24<00:00, 10.2MB/s\n"
     ]
    },
    {
     "name": "stdout",
     "output_type": "stream",
     "text": [
      "File S2B_MSIL1C_20210916T112109_N0301_R037_T29TPE_20210916T151618.SAFE.zip already exists. Skipping download.\n",
      "No images found for date 2021-09-18\n",
      "No images found for date 2021-09-19\n",
      "No images found for date 2021-09-20\n"
     ]
    },
    {
     "name": "stderr",
     "output_type": "stream",
     "text": [
      "Downloading S2A_MSIL1C_20210921T112121_N0301_R037_T29TPE_20210921T132710.SAFE: 100%|█| 871M/871M [01:25<00:00, 10.2MB/s\n"
     ]
    },
    {
     "name": "stdout",
     "output_type": "stream",
     "text": [
      "File S2A_MSIL1C_20210921T112121_N0301_R037_T29TPE_20210921T132710.SAFE.zip already exists. Skipping download.\n"
     ]
    },
    {
     "name": "stderr",
     "output_type": "stream",
     "text": [
      "Downloading S2B_MSIL1C_20210926T112109_N0301_R037_T29TPE_20210926T133340.SAFE: 100%|█| 858M/858M [01:23<00:00, 10.3MB/s\n"
     ]
    },
    {
     "name": "stdout",
     "output_type": "stream",
     "text": [
      "File S2B_MSIL1C_20210926T112109_N0301_R037_T29TPE_20210926T133340.SAFE.zip already exists. Skipping download.\n",
      "No images found for date 2021-09-29\n",
      "No images found for date 2021-09-30\n",
      "No images found for date 2021-10-03\n",
      "No images found for date 2021-10-04\n"
     ]
    },
    {
     "name": "stderr",
     "output_type": "stream",
     "text": [
      "Downloading S2B_MSIL1C_20211006T112119_N0301_R037_T29TPE_20211006T122732.SAFE: 100%|█| 860M/860M [01:23<00:00, 10.3MB/s\n"
     ]
    },
    {
     "name": "stdout",
     "output_type": "stream",
     "text": [
      "File S2B_MSIL1C_20211006T112119_N0301_R037_T29TPE_20211006T122732.SAFE.zip already exists. Skipping download.\n",
      "No images found for date 2021-10-08\n"
     ]
    },
    {
     "name": "stderr",
     "output_type": "stream",
     "text": [
      "Downloading S2A_MSIL1C_20211011T112121_N0301_R037_T29TPE_20211011T133129.SAFE: 100%|█| 827M/827M [01:37<00:00, 8.44MB/s\n"
     ]
    },
    {
     "name": "stdout",
     "output_type": "stream",
     "text": [
      "File S2A_MSIL1C_20211011T112121_N0301_R037_T29TPE_20211011T133129.SAFE.zip already exists. Skipping download.\n",
      "No images found for date 2021-10-13\n",
      "No images found for date 2021-10-15\n",
      "No images found for date 2021-10-19\n",
      "No images found for date 2021-10-20\n"
     ]
    },
    {
     "name": "stderr",
     "output_type": "stream",
     "text": [
      "Downloading S2A_MSIL1C_20211021T112121_N0301_R037_T29TPE_20211021T133204.SAFE: 100%|█| 858M/858M [01:36<00:00, 8.93MB/s\n"
     ]
    },
    {
     "name": "stdout",
     "output_type": "stream",
     "text": [
      "No images found for date 2021-10-23\n",
      "No images found for date 2021-10-24\n",
      "No images found for date 2021-10-25\n"
     ]
    },
    {
     "name": "stderr",
     "output_type": "stream",
     "text": [
      "Downloading S2B_MSIL1C_20211026T112119_N0301_R037_T29TPE_20211026T121849.SAFE: 100%|█| 861M/861M [01:35<00:00, 9.04MB/s\n"
     ]
    },
    {
     "name": "stdout",
     "output_type": "stream",
     "text": [
      "File S2B_MSIL1C_20211026T112119_N0301_R037_T29TPE_20211026T121849.SAFE.zip already exists. Skipping download.\n",
      "No images found for date 2021-11-04\n"
     ]
    },
    {
     "name": "stderr",
     "output_type": "stream",
     "text": [
      "Downloading S2B_MSIL1C_20211105T112149_N0301_R037_T29TPE_20211108T162544.SAFE: 100%|█| 856M/856M [01:31<00:00, 9.39MB/s\n"
     ]
    },
    {
     "name": "stdout",
     "output_type": "stream",
     "text": [
      "File S2B_MSIL1C_20211105T112149_N0301_R037_T29TPE_20211108T162544.SAFE.zip already exists. Skipping download.\n",
      "No images found for date 2021-11-07\n",
      "No images found for date 2021-11-08\n",
      "No images found for date 2021-11-09\n"
     ]
    },
    {
     "name": "stderr",
     "output_type": "stream",
     "text": [
      "Downloading S2A_MSIL1C_20211110T112311_N0301_R037_T29TPE_20211110T132548.SAFE: 100%|█| 861M/861M [01:26<00:00, 9.97MB/s\n"
     ]
    },
    {
     "name": "stdout",
     "output_type": "stream",
     "text": [
      "File S2A_MSIL1C_20211110T112311_N0301_R037_T29TPE_20211110T132548.SAFE.zip already exists. Skipping download.\n",
      "No images found for date 2021-11-12\n",
      "No images found for date 2021-11-13\n",
      "No images found for date 2021-11-14\n"
     ]
    },
    {
     "name": "stderr",
     "output_type": "stream",
     "text": [
      "Downloading S2B_MSIL1C_20211115T112239_N0301_R037_T29TPE_20211115T121508.SAFE: 100%|█| 861M/861M [01:29<00:00, 9.60MB/s\n"
     ]
    },
    {
     "name": "stdout",
     "output_type": "stream",
     "text": [
      "File S2B_MSIL1C_20211115T112239_N0301_R037_T29TPE_20211115T121508.SAFE.zip already exists. Skipping download.\n",
      "No images found for date 2021-11-17\n",
      "No images found for date 2021-11-18\n",
      "No images found for date 2021-11-19\n"
     ]
    },
    {
     "name": "stderr",
     "output_type": "stream",
     "text": [
      "Downloading S2B_MSIL1C_20211125T112319_N0301_R037_T29TPE_20211125T120515.SAFE: 100%|█| 765M/765M [01:16<00:00, 9.94MB/s\n"
     ]
    },
    {
     "name": "stdout",
     "output_type": "stream",
     "text": [
      "No images found for date 2021-11-28\n"
     ]
    },
    {
     "name": "stderr",
     "output_type": "stream",
     "text": [
      "Downloading S2A_MSIL1C_20211130T112431_N0301_R037_T29TPE_20211130T133012.SAFE: 100%|█| 860M/860M [01:23<00:00, 10.3MB/s\n"
     ]
    },
    {
     "name": "stdout",
     "output_type": "stream",
     "text": [
      "No images found for date 2021-12-02\n",
      "No images found for date 2021-12-03\n"
     ]
    },
    {
     "name": "stderr",
     "output_type": "stream",
     "text": [
      "Downloading S2A_MSIL1C_20211210T112451_N0301_R037_T29TPE_20211210T133013.SAFE: 100%|█| 720M/720M [01:12<00:00, 9.93MB/s\n"
     ]
    },
    {
     "name": "stdout",
     "output_type": "stream",
     "text": [
      "No images found for date 2021-12-12\n",
      "No images found for date 2021-12-13\n",
      "No images found for date 2021-12-14\n"
     ]
    },
    {
     "name": "stderr",
     "output_type": "stream",
     "text": [
      "Downloading S2B_MSIL1C_20211215T112359_N0301_R037_T29TPE_20211215T121102.SAFE: 100%|█| 861M/861M [01:29<00:00, 9.66MB/s\n"
     ]
    },
    {
     "name": "stdout",
     "output_type": "stream",
     "text": [
      "File S2B_MSIL1C_20211215T112359_N0301_R037_T29TPE_20211215T121102.SAFE.zip already exists. Skipping download.\n",
      "No images found for date 2021-12-17\n"
     ]
    },
    {
     "name": "stderr",
     "output_type": "stream",
     "text": [
      "Downloading S2A_MSIL1C_20211230T112501_N0301_R037_T29TPE_20211230T132549.SAFE: 100%|█| 850M/850M [01:31<00:00, 9.28MB/s\n"
     ]
    },
    {
     "name": "stdout",
     "output_type": "stream",
     "text": [
      "File S2A_MSIL1C_20211230T112501_N0301_R037_T29TPE_20211230T132549.SAFE.zip already exists. Skipping download.\n",
      "No images found for date 2022-01-01\n",
      "No images found for date 2022-01-03\n",
      "No images found for date 2022-01-06\n",
      "No images found for date 2022-01-07\n",
      "No images found for date 2022-01-12\n",
      "No images found for date 2022-01-13\n",
      "No images found for date 2022-01-17\n"
     ]
    },
    {
     "name": "stderr",
     "output_type": "stream",
     "text": [
      "Downloading S2A_MSIL1C_20220119T112411_N0301_R037_T29TPE_20220119T132627.SAFE: 100%|█| 855M/855M [01:15<00:00, 11.3MB/s\n"
     ]
    },
    {
     "name": "stdout",
     "output_type": "stream",
     "text": [
      "File S2A_MSIL1C_20220119T112411_N0301_R037_T29TPE_20220119T132627.SAFE.zip already exists. Skipping download.\n",
      "No images found for date 2022-01-21\n",
      "No images found for date 2022-01-23\n"
     ]
    },
    {
     "name": "stderr",
     "output_type": "stream",
     "text": [
      "Downloading S2B_MSIL1C_20220124T112249_N0301_R037_T29TPE_20220124T120559.SAFE: 100%|█| 851M/851M [01:21<00:00, 10.5MB/s\n"
     ]
    },
    {
     "name": "stdout",
     "output_type": "stream",
     "text": [
      "File S2B_MSIL1C_20220124T112249_N0301_R037_T29TPE_20220124T120559.SAFE.zip already exists. Skipping download.\n",
      "No images found for date 2022-01-26\n",
      "No images found for date 2022-01-27\n",
      "No images found for date 2022-01-28\n"
     ]
    },
    {
     "name": "stderr",
     "output_type": "stream",
     "text": [
      "Downloading S2A_MSIL1C_20220129T112321_N0400_R037_T29TPE_20220129T152419.SAFE: 100%|█| 850M/850M [01:15<00:00, 11.3MB/s\n"
     ]
    },
    {
     "name": "stdout",
     "output_type": "stream",
     "text": [
      "File S2A_MSIL1C_20220129T112321_N0400_R037_T29TPE_20220129T152419.SAFE.zip already exists. Skipping download.\n",
      "No images found for date 2022-01-31\n",
      "No images found for date 2022-02-01\n",
      "No images found for date 2022-02-02\n",
      "No images found for date 2022-02-05\n",
      "No images found for date 2022-02-06\n",
      "No images found for date 2022-02-07\n"
     ]
    },
    {
     "name": "stderr",
     "output_type": "stream",
     "text": [
      "Downloading S2A_MSIL1C_20220208T112231_N0400_R037_T29TPE_20220208T132948.SAFE: 100%|█| 847M/847M [01:13<00:00, 11.5MB/s\n"
     ]
    },
    {
     "name": "stdout",
     "output_type": "stream",
     "text": [
      "File S2A_MSIL1C_20220208T112231_N0400_R037_T29TPE_20220208T132948.SAFE.zip already exists. Skipping download.\n",
      "No images found for date 2022-02-11\n",
      "No images found for date 2022-02-15\n",
      "No images found for date 2022-02-17\n"
     ]
    },
    {
     "name": "stderr",
     "output_type": "stream",
     "text": [
      "Downloading S2A_MSIL1C_20220218T112121_N0400_R037_T29TPE_20220218T151306.SAFE: 100%|█| 815M/815M [01:10<00:00, 11.5MB/s\n"
     ]
    },
    {
     "name": "stdout",
     "output_type": "stream",
     "text": [
      "No images found for date 2022-02-20\n",
      "No images found for date 2022-02-21\n",
      "No images found for date 2022-02-22\n"
     ]
    },
    {
     "name": "stderr",
     "output_type": "stream",
     "text": [
      "Downloading S2A_MSIL1C_20220228T112121_N0400_R037_T29TPE_20220228T133639.SAFE: 100%|█| 850M/850M [01:23<00:00, 10.2MB/s\n"
     ]
    },
    {
     "name": "stdout",
     "output_type": "stream",
     "text": [
      "No images found for date 2022-03-02\n",
      "No images found for date 2022-03-04\n"
     ]
    },
    {
     "name": "stderr",
     "output_type": "stream",
     "text": [
      "Downloading S2B_MSIL1C_20220305T112109_N0400_R037_T29TPE_20220305T123224.SAFE: 100%|█| 804M/804M [01:25<00:00, 9.43MB/s\n"
     ]
    },
    {
     "name": "stdout",
     "output_type": "stream",
     "text": [
      "File S2B_MSIL1C_20220305T112109_N0400_R037_T29TPE_20220305T123224.SAFE.zip already exists. Skipping download.\n",
      "No images found for date 2022-03-07\n"
     ]
    },
    {
     "name": "stderr",
     "output_type": "stream",
     "text": [
      "Downloading S2A_MSIL1C_20220330T112121_N0400_R037_T29TPE_20220330T132639.SAFE: 100%|█| 848M/848M [01:14<00:00, 11.4MB/s\n"
     ]
    }
   ],
   "source": [
    "import os\n",
    "import datetime\n",
    "import numpy as np\n",
    "from matplotlib import pyplot as plt\n",
    "import pandas as pd\n",
    "import requests\n",
    "import urllib.parse\n",
    "from tqdm import tqdm\n",
    "from sentinelhub import (SHConfig, DataCollection, SentinelHubCatalog, SentinelHubRequest, BBox, bbox_to_dimensions, CRS, MimeType, Geometry)\n",
    "\n",
    "# Define your username and password\n",
    "username = \"\"  # Replace with your actual username\n",
    "password = \"\"  # Replace with your actual password\n",
    "\n",
    "# Define global variables for token and expiry\n",
    "keycloak_token = None\n",
    "token_expiry = None\n",
    "\n",
    "# Define a function to get a Keycloak token\n",
    "def get_keycloak_token(username: str, password: str) -> str:\n",
    "    data = {\n",
    "        \"client_id\": \"cdse-public\",\n",
    "        \"username\": username,\n",
    "        \"password\": password,\n",
    "        \"grant_type\": \"password\",\n",
    "    }\n",
    "    try:\n",
    "        r = requests.post(\n",
    "            \"https://identity.dataspace.copernicus.eu/auth/realms/CDSE/protocol/openid-connect/token\",\n",
    "            data=data,\n",
    "        )\n",
    "        r.raise_for_status()\n",
    "    except Exception as e:\n",
    "        raise Exception(\n",
    "            f\"Keycloak token creation failed. Response from the server was: {r.json()}\"\n",
    "        )\n",
    "    response_json = r.json()\n",
    "    global token_expiry\n",
    "    # Token expires in seconds\n",
    "    token_expiry = datetime.datetime.utcnow() + datetime.timedelta(seconds=response_json[\"expires_in\"])\n",
    "    return response_json[\"access_token\"]\n",
    "\n",
    "# Define a function to get a valid Keycloak token\n",
    "def get_valid_keycloak_token() -> str:\n",
    "    global keycloak_token, token_expiry\n",
    "    if keycloak_token is None or datetime.datetime.utcnow() >= token_expiry:\n",
    "        keycloak_token = get_keycloak_token(username, password)\n",
    "    return keycloak_token\n",
    "\n",
    "def download_image(date_str):\n",
    "    keycloak_token = get_valid_keycloak_token()\n",
    "    date = datetime.datetime.strptime(date_str, \"%Y-%m-%d\")\n",
    "    start_date = (date - datetime.timedelta(days=1)).strftime(\"%Y-%m-%dT00:00:00.000Z\")\n",
    "    end_date = (date + datetime.timedelta(days=1)).strftime(\"%Y-%m-%dT00:00:00.000Z\")\n",
    "\n",
    "    aoi = \"POLYGON ((-7.505894 40.007116, -7.457485 40.007116, -7.458344 39.965828, -7.503834 39.964645, -7.505894 40.007116))\"\n",
    "    encoded_aoi = urllib.parse.quote(aoi)\n",
    "\n",
    "    request_url = (\n",
    "        f\"https://catalogue.dataspace.copernicus.eu/odata/v1/Products?\"\n",
    "        f\"$filter=Collection/Name eq 'SENTINEL-2' and \"\n",
    "        f\"OData.CSC.Intersects(area=geography'SRID=4326;{encoded_aoi}') and \"\n",
    "        f\"ContentDate/Start gt {start_date} and ContentDate/Start lt {end_date}\"\n",
    "    )\n",
    "\n",
    "    # Make request and handle response\n",
    "    response = requests.get(request_url)\n",
    "    response.raise_for_status()\n",
    "    json_response = response.json()\n",
    "\n",
    "    filtered_data = [\n",
    "        item for item in json_response.get(\"value\", [])\n",
    "        if len(item.get(\"Name\", \"\").split(\"_\")) >= 0\n",
    "        and item[\"Name\"].split(\"_\")[1] == \"MSIL1C\"\n",
    "        and item[\"Name\"].split(\"_\")[5] == \"T29TPE\"\n",
    "    ]\n",
    "\n",
    "    if not filtered_data:\n",
    "        print(f\"No images found for date {date_str}\")\n",
    "        return\n",
    "\n",
    "    min_date = min(item[\"OriginDate\"] for item in filtered_data)\n",
    "    filtered_data = [item for item in filtered_data if item[\"OriginDate\"] == min_date]\n",
    "\n",
    "    filtered_df = pd.DataFrame.from_dict(filtered_data)\n",
    "    session = requests.Session()\n",
    "    session.headers.update({\"Authorization\": f\"Bearer {keycloak_token}\"})\n",
    "\n",
    "    for index, row in filtered_df.iterrows():\n",
    "        download_path = fr\"D:\\AliFarrokhi\\Santa_Agueda\\lvl1sen2\\{row['Name']}.zip\"\n",
    "        \n",
    "        # Check if file already exists\n",
    "        if os.path.exists(download_path):\n",
    "            print(f\"File {row['Name']}.zip already exists. Skipping download.\")\n",
    "            continue\n",
    "\n",
    "        url = f\"https://catalogue.dataspace.copernicus.eu/odata/v1/Products({row['Id']})/$value\"\n",
    "        response = session.get(url, stream=True, allow_redirects=False)\n",
    "\n",
    "        while response.status_code in (301, 302, 303, 307):\n",
    "            url = response.headers[\"Location\"]\n",
    "            response = session.get(url, stream=True, allow_redirects=False)\n",
    "\n",
    "        total_size = int(response.headers.get(\"Content-Length\", 0))\n",
    "        chunk_size = 1024\n",
    "\n",
    "        with open(download_path, \"wb\") as p:\n",
    "            with tqdm(total=total_size, unit=\"B\", unit_scale=True, desc=f\"Downloading {row['Name']}\") as progress_bar:\n",
    "                for data in response.iter_content(chunk_size=chunk_size):\n",
    "                    p.write(data)\n",
    "                    progress_bar.update(len(data))\n",
    "\n",
    "# Read the CSV file into a DataFrame\n",
    "df = pd.read_csv(r\"D:\\AliFarrokhi\\Santa_Agueda\\Turbidity_nocloud.csv\")\n",
    "\n",
    "# Create a new DataFrame with unique values in the \"SDate\" column\n",
    "new_df = pd.DataFrame({'SDate': df['Date']}).drop_duplicates()\n",
    "\n",
    "# Download images for each unique date in new_df\n",
    "for date in new_df['SDate']:\n",
    "    try:\n",
    "        download_image(str(date))\n",
    "    except requests.exceptions.HTTPError as e:\n",
    "        if e.response.status_code == 401:\n",
    "            print(\"Token expired. Refreshing token...\")\n",
    "            # Obtain a new token and retry the download\n",
    "            get_valid_keycloak_token()\n",
    "            download_image(str(date))\n",
    "        else:\n",
    "            print(f\"Error downloading image for date {str(date)}: {str(e)}\")\n"
   ]
  },
  {
   "cell_type": "markdown",
   "id": "687d84ae-45a1-47eb-9217-799efc777dd8",
   "metadata": {},
   "source": [
    "<span style=\"font-size: 18px;\">AC sen2cor</span>"
   ]
  },
  {
   "cell_type": "code",
   "execution_count": 3,
   "id": "6cddbd6c-742b-4816-84a5-aac8629abd49",
   "metadata": {},
   "outputs": [
    {
     "name": "stderr",
     "output_type": "stream",
     "text": [
      "100%|██████████████████████████████████████████████████████████████████| 251/251 [60:29:14<00:00, 867.55s/ SAFE folder]\n"
     ]
    }
   ],
   "source": [
    "import subprocess\n",
    "import csv\n",
    "from tqdm import tqdm\n",
    "\n",
    "# Path to Sen2Cor executable\n",
    "sen2cor_path = r\"D:\\AliFarrokhi\\Sen2Cor\\Sen2Cor-02.11.00-win64\"\n",
    "\n",
    "# Path to CSV file containing the full paths\n",
    "csv_file_path = r\"D:\\AliFarrokhi\\Santa_Agueda\\lvl1sen2\\path.csv\"\n",
    "# Open and read the CSV file\n",
    "with open(csv_file_path, mode='r') as file:\n",
    "    csv_reader = csv.reader(file)\n",
    "    total_rows = sum(1 for _ in csv_reader)\n",
    "    file.seek(0)\n",
    "    \n",
    " \n",
    "    for row in tqdm(csv_reader, total=total_rows, unit=\" SAFE folder\"):\n",
    "        # Get the full path to the SAFE folder from the CSV\n",
    "        full_path_to_safe_folder = row[0]\n",
    "        \n",
    "        # Build the command to run Sen2Cor\n",
    "        sen2cor_command = f\"cd /d {sen2cor_path} && L2A_Process.bat {full_path_to_safe_folder}\"\n",
    "        \n",
    "        try:\n",
    "            # Run the command\n",
    "            subprocess.run(sen2cor_command, shell=True, check=True)\n",
    "            # Wait for the process to complete\n",
    "            subprocess.run(\"pause\", shell=True)\n",
    "        \n",
    "        except subprocess.CalledProcessError as e:\n",
    "            print(f\"Error{full_path_to_safe_folder}: {e}\")\n"
   ]
  },
  {
   "cell_type": "code",
   "execution_count": null,
   "id": "dea3139d-e953-4a65-bac5-76fedc4b8ed4",
   "metadata": {},
   "outputs": [],
   "source": []
  }
 ],
 "metadata": {
  "kernelspec": {
   "display_name": "Python 3 (ipykernel)",
   "language": "python",
   "name": "python3"
  },
  "language_info": {
   "codemirror_mode": {
    "name": "ipython",
    "version": 3
   },
   "file_extension": ".py",
   "mimetype": "text/x-python",
   "name": "python",
   "nbconvert_exporter": "python",
   "pygments_lexer": "ipython3",
   "version": "3.12.4"
  }
 },
 "nbformat": 4,
 "nbformat_minor": 5
}
